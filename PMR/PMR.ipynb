{
 "cells": [
  {
   "cell_type": "markdown",
   "metadata": {
    "hide_input": false
   },
   "source": [
    "# Probabilistic Modelling and Reasoning\n",
    "\n",
    "[Course homepage](https://www.inf.ed.ac.uk/teaching/courses/pmr/18-19/)"
   ]
  },
  {
   "cell_type": "markdown",
   "metadata": {},
   "source": [
    "## Graphical Models"
   ]
  },
  {
   "cell_type": "markdown",
   "metadata": {},
   "source": [
    "### Directed graphical model\n",
    "\n",
    "$$p(x_1, \\ldots, x_d) = \\prod_{i=1}^d p(x_i | \\mathrm{pa}_i )$$"
   ]
  },
  {
   "cell_type": "markdown",
   "metadata": {},
   "source": [
    "#### Canonical connections\n",
    "\n",
    "| Name | Connection | $z$ node | $p(x,y)$ | $p(x,y\\mid z)$ |\n",
    "|---|---|---|---|---|\n",
    "| Serial<br>(chain, head-tail, tail-head) | ![](graphs/DAG_serial.svg) | default: open <br> instantiated: closed | $x \\not\\mspace{-2mu}\\mathrel{\\perp\\mspace{-7mu}\\perp} y$ | $x \\mathrel{\\perp\\mspace{-7mu}\\perp} y \\mid z$ |\n",
    "| Diverging<br>(fork, tail-tail) | ![](graphs/DAG_diverging.svg) | default: open <br> instantiated: closed | $x \\not\\mspace{-2mu}\\mathrel{\\perp\\mspace{-7mu}\\perp} y$ | $x \\mathrel{\\perp\\mspace{-7mu}\\perp} y \\mid z$ |\n",
    "| Converging<br>(collider, head-head, v-structure) | ![](graphs/DAG_converging.svg) | default: closed <br> with evidence: open | $x \\mathrel{\\perp\\mspace{-7mu}\\perp} y$ | $x \\not\\mspace{-2mu}\\mathrel{\\perp\\mspace{-7mu}\\perp} y \\mid z$ |"
   ]
  },
  {
   "cell_type": "markdown",
   "metadata": {},
   "source": [
    "#### D-separation\n",
    "\n",
    "| Graphs | D-separated? | Independencies |\n",
    "|---|---|---|\n",
    "| ![](graphs/DAG_dsep_block1.svg) ![](graphs/DAG_dsep_block2.svg) | YES | $x \\mathrel{\\perp\\mspace{-7mu}\\perp} y \\mid z$ |\n",
    "| ![](graphs/DAG_serial.svg) ![](graphs/DAG_diverging.svg) | NO | $x \\mathrel{\\perp\\mspace{-7mu}\\perp} y$ not generally holds |\n",
    "| ![](graphs/DAG_dsep_block3.svg) | YES | $x \\mathrel{\\perp\\mspace{-7mu}\\perp} y$\n",
    "| ![](graphs/DAG_dsep_notblock3.svg) | NO | $x \\mathrel{\\perp\\mspace{-7mu}\\perp} y \\mid z$ not generally holds|"
   ]
  },
  {
   "cell_type": "markdown",
   "metadata": {},
   "source": [
    "#### Independencies\n",
    "\n",
    "- Ordered Markov property (for a topological ordering): $\\displaystyle x_i \\mathrel{\\perp\\mspace{-7mu}\\perp} (\\mathrm{pre}_i \\backslash \\mathrm{pa}_i) \\mid \\mathrm{pa}_i, \\forall i$\n",
    "- Local Markov property (for any topological ordering): $\\displaystyle x_i \\mathrel{\\perp\\mspace{-7mu}\\perp} (\\mathrm{nondesc}(x_i) \\backslash \\mathrm{pa}_i) \\mid \\mathrm{pa}_i$\n",
    "- Global Markov property: All independencies by d-separation\n",
    "- Markov blanket: $\\displaystyle x_i \\mathrel{\\perp\\mspace{-7mu}\\perp} \\{ \\text{all variables } \\backslash x \\backslash \\mathrm{MB}(x) \\} \\mid \\mathrm{MB}(x)$\n",
    "- $\\mathrm{MB}(x) = \\{ \\text{parents, childrent, co-parents} \\}$"
   ]
  },
  {
   "cell_type": "markdown",
   "metadata": {},
   "source": [
    "### Undirected graphical model\n",
    "\n",
    "$$p(x_1, \\ldots, x_d) = \\frac{1}{Z} \\prod_c \\phi_c(\\mathcal X_c) \\quad \\text{(Gibbs distribution)}$$\n",
    "\n",
    "- $\\mathcal X_c$ correspond to maximal cliques (a set of fully connected nodes that is not contained in another clique)"
   ]
  },
  {
   "cell_type": "markdown",
   "metadata": {},
   "source": [
    "#### Graph separation\n",
    "\n",
    "Conditioning on variables removes the corresponding nodes and connecting edges from the undirected graph. "
   ]
  },
  {
   "cell_type": "markdown",
   "metadata": {},
   "source": [
    "#### Independencies\n",
    "\n",
    "- Local Markov property: $\\displaystyle \\alpha \\mathrel{\\perp\\mspace{-7mu}\\perp} | \\{ X \\backslash \\alpha \\backslash \\mathrm{ne}(\\alpha) \\} \\mid \\mathrm{ne}(\\alpha)$\n",
    "- Pairwise Markov property: $\\displaystyle \\alpha \\mathrel{\\perp\\mspace{-7mu}\\perp} \\beta \\mid X \\backslash \\{ \\alpha, \\beta \\}$ for all non-neighbouring $\\alpha$ and $\\beta$\n",
    "- Global Markov property: all independencies from graph separation\n",
    "- $\\mathrm{MB}(x) = \\mathrm{ne}(x)$"
   ]
  },
  {
   "cell_type": "markdown",
   "metadata": {},
   "source": [
    "### Experessive power"
   ]
  },
  {
   "cell_type": "markdown",
   "metadata": {},
   "source": [
    "#### Minimal I-map\n",
    "\n",
    "- All independecies asserted by the graph must hold for $p$\n",
    "- Removing an edge results in a graph making wrong independency assertions"
   ]
  },
  {
   "cell_type": "markdown",
   "metadata": {},
   "source": [
    "##### Undirected\n",
    "\n",
    "| Example | $p(x_1, x_2, x_3, x_4) \\propto \\phi_1(x_1, x_2) \\phi_2(x_2,x_3) \\phi_3(x_4)$ |\n",
    "| --- | --- |\n",
    "| Minimal I-map | ![](graphs/MinImap_undir.svg) |\n",
    "| Not an I-map | ![](graphs/NotImap_undir.svg) |\n",
    "| Not-minimal I-map | ![](graphs/NotMinImap_undir.svg) |\n",
    "\n",
    "Construction:\n",
    "1. Based on pairwise and local Markov property\n",
    "1. Determine MB for each node and connect to all nodes in the MB"
   ]
  },
  {
   "cell_type": "markdown",
   "metadata": {},
   "source": [
    "##### Directed\n",
    "\n",
    "Construction:\n",
    "1. Based on ordered Markov property\n",
    "1. Determine parent set for each node and connect to all parents\n",
    "\n",
    "\n",
    "- Not unique\n",
    "- May not make same independece assertions"
   ]
  },
  {
   "cell_type": "markdown",
   "metadata": {},
   "source": [
    "#### I-equivalence\n",
    "\n",
    "- Same skeleton\n",
    "- Same immoralities (colliders without covering edge)"
   ]
  },
  {
   "cell_type": "markdown",
   "metadata": {},
   "source": [
    "#### Conversion\n",
    "\n",
    "##### Directed to undirected\n",
    "\n",
    "$$p(x_1, \\ldots, x_d) = \\prod_{i=1}^d p(x_i | \\mathrm{pa}_i) \\quad \\Rightarrow \\quad p(x_1, \\ldots, x_d) = \\prod_{i=1}^d \\phi_i(x_i, \\mathrm{pa}_i)$$\n",
    "\n",
    "- Moralisation\n",
    "- Form cliques for $(x_i, \\mathrm{pa}_i)$\n",
    "\n",
    "##### Undirected to directed\n",
    "\n",
    "- Based on local Markov property\n",
    "- Not have any immoralities\n",
    "- Chordal/triangulated graphs"
   ]
  },
  {
   "cell_type": "markdown",
   "metadata": {},
   "source": [
    "### Factor graphs"
   ]
  },
  {
   "cell_type": "markdown",
   "metadata": {},
   "source": [
    "#### Advantages\n",
    "\n",
    "- More informative\n",
    "    - Better representing the factorisation\n",
    "    - One-to-one mapping from Gibbs distribution\n",
    "    - Example: \n",
    "\n",
    "\\begin{align*}\n",
    "p_A(x_1, x_2, x_3) &\\propto \\phi_1(x_1, x_2) \\phi_2(x_2, x_3) \\phi_3(x_3, x_1) \\\\\n",
    "p_B(x_1, x_2, x_3) &\\propto \\phi(x_1, x_2, x_3)\n",
    "\\end{align*}\n",
    "\n",
    "| UG for $p_A$ and $p_B$ | FG for $p_A$ | FG for $p_B$ |\n",
    "| --- | --- | --- |\n",
    "| ![](graphs/FG_UG.svg) | ![](graphs/FG_pA.svg) | ![](graphs/FG_pB.svg) |\n",
    "\n",
    "- Without imposing ordering\n",
    "\n",
    "    - Example: $p(x_1, x_2, x_3) = p(x_1, x_2) p(x_3 | x_1, x_2)$\n",
    "\n",
    "| DAG1 | DAG2 | UG | FG |\n",
    "| --- | --- | --- | --- |\n",
    "| ![](graphs/FG_mix_DG1.svg) | ![](graphs/FG_mix_DG2.svg) | ![](graphs/FG_mix_UG.svg) | ![](graphs/FG_mix_FG.svg) |\n",
    "| Force ordering $(x_1, x_2, x_3)$ | Force ordering $(x_2, x_1, x_3)$ | Condition on $x_1$, $x_2$ not shown | |\n",
    "\n",
    "- Computational advantages\n",
    "    - Less free parameters with factorisations\n",
    "- Statistical advantages\n",
    "    - Represent independencies that DAGs or UGs cannot or do not represent"
   ]
  },
  {
   "cell_type": "markdown",
   "metadata": {},
   "source": [
    "#### Marginal inferences"
   ]
  },
  {
   "cell_type": "markdown",
   "metadata": {},
   "source": [
    "##### Variable elimination\n",
    "\n",
    "- Distributive law $ab+ac = a(b+c)$\n",
    "- Caching/recycling computations\n",
    "- For general factor graphs\n",
    "\n",
    "**Full factorisation**\n",
    "\n",
    "Example: $p(x_1, x_2, x_3) \\propto \\phi_1(x_1) \\phi_2(x_2) \\phi_3(x_3)$\n",
    "\n",
    "| &nbsp; | <img width=200/> $p(x_1=k)$ | Computational cost |\n",
    "| --- | --- | --- |\n",
    "| **Before** | $\\displaystyle \\sum_{x_2, x_3} p(x_1=k, x_2, x_3)$ | $K^3$ (sum over $K^2$ for each $k$) |\n",
    "| **After** | $\\displaystyle \\phi_1(k) \\left[ \\sum_{x_2} \\phi_2(x_2) \\right] \\left[ \\sum_{x_3} \\phi_3(x_3) \\right]$ | $2K + K$ (recycling) |\n",
    "\n",
    "**Chain**\n",
    "\n",
    "Example: $\\displaystyle p(x_1, \\ldots, x_d) \\propto \\left[\\prod_{i=1}^{d-1} \\phi_i (x_i, x_{i+1}) \\right] \\phi_d(x_d)$\n",
    "\n",
    "| &nbsp; | <img width=250/>Factorisation | Graph | Computational cost |\n",
    "| --- | --- | --- | --- |\n",
    "| **Before** | $\\displaystyle \\sum_{x_2, \\ldots, x_d} p(x_1=k, \\ldots, x_d)$ | ![](graphs/EI_chain_before.svg) | $K^d$ |\n",
    "| **Eliminate $x_d$** | $\\displaystyle \\tilde\\phi_d(x_{d-1}) = \\sum_{x_d} \\phi_{d-1}(x_{d-1}, x_d) \\phi_d(x_d)$ | ![](graphs/EI_chain_1.svg) | $K^2$ |\n",
    "| **Eliminate $x_{d-1}$** | $\\displaystyle \\tilde\\phi_{d,d-1}(x_{d-2}) = \\sum_{x_{d-1}} \\phi_{d-2}(x_{d-2}, x_{d-1}) \\tilde\\phi_d(x_{d-1})$ | ![](graphs/EI_chain_2.svg) | $K^2$ |\n",
    "| ... | ... | ... | ... |\n",
    "| **Total** | &nbsp; | &nbsp; | $O((d-1)K^2)$ |\n",
    "\n",
    "**Bucket**\n",
    "\n",
    "Example: $\\displaystyle p(X^k) \\propto \\prod_{i=1}^{m^k} \\phi_i^k (\\mathcal X_i^k)$\n",
    "\n",
    "1. Choose $x^* \\notin \\mathcal X_{\\text{target}}$ in a greedy way (with the least number of neighbours)\n",
    "1. $\\displaystyle p(X^{k+1}) \\propto \\prod_{i:x^x\\notin\\mathcal X_i^k} \\phi_i^k (\\mathcal X_i^k) \\sum_{x^*} \\prod_{i:x^*\\in\\mathcal X_i^k} \\phi_i^k (\\mathcal X_i^k) \\propto \\left[ \\prod_{i:x^*\\notin\\mathcal X_i^k} \\phi_i^k (\\mathcal X_i^k) \\right] \\tilde\\phi_* (\\tilde{\\mathcal X}_*)$, where $\\displaystyle \\tilde{\\mathcal X}_* = \\bigcup_{i:x^*\\in\\mathcal X_i^k} \\left( \\mathcal X_i^k \\backslash x^* \\right)$"
   ]
  },
  {
   "cell_type": "markdown",
   "metadata": {},
   "source": [
    "##### Sum-product algorithm\n",
    "\n",
    "- Variable elimination for factor trees (no loop) with messages\n",
    "- Other names: message passing, beleif propagation\n",
    "- Advantages: allow to compute all univariate marginals and all joint distributions\n",
    "\n",
    "| <img width=300/>Message | Direction | Graph |\n",
    "| --- | --- | --- |\n",
    "| $\\displaystyle \\mu_{\\phi \\to x}(x) = \\sum_{x_1, \\ldots, x_j} \\phi(x_1, \\ldots, x_j, x) \\prod_{i=1}^j \\mu_{x_i \\to \\phi} (x_i)$ | Factor to variable | ![](graphs/EI_sumprod_f2v.svg) |\n",
    "| $\\displaystyle \\mu_{x\\to\\phi}(x) = \\prod_{i=1}^j \\mu_{\\phi_i \\to x} (x)$ | Variable to factor | ![](graphs/EI_sumprod_v2f.svg) |\n",
    "| $\\displaystyle p(x) \\propto \\prod_{i=1}^j \\mu_{\\phi_i \\to x} (x)$ | Unnormalised univariate marginal | ![](graphs/EI_sumprod_uni.svg) |\n",
    "| $\\displaystyle p(x_1, \\ldots, x_j) \\propto \\phi(x_1, \\ldots, x_j) \\prod_{i=1}^j \\mu_{x_i\\to\\phi}(x_i)$ | Unnormalised joint marginal | ![](graphs/EI_sumprod_joint.svg) |"
   ]
  },
  {
   "cell_type": "markdown",
   "metadata": {},
   "source": [
    "#### Most probable states\n",
    "\n",
    "- Distributive law $\\max(ab, ac) = a \\max(b,c)$\n",
    "- Max-product algorithm (same as sum-product algorithm with $\\max$ instead of $\\sum$)\n",
    "- Back-tracking for computing $\\arg\\max$"
   ]
  },
  {
   "cell_type": "markdown",
   "metadata": {},
   "source": [
    "## Markov Models"
   ]
  },
  {
   "cell_type": "markdown",
   "metadata": {},
   "source": [
    "### Markov chains\n",
    "\n",
    "- $L$-th order Markov chain\n",
    "\n",
    "$$p(x_1, \\ldots, x_d) = \\prod_{i=1}^d p(x_i | x_{i-L}, \\ldots, x_{i-1})$$\n",
    "\n",
    "- 1st order Markov chain\n",
    "\n",
    "$$p(x_1, \\ldots, x_d) = \\prod_{i=1}^d p(x_i | x_{i-1})$$\n",
    "\n",
    "- Transition distribution\n",
    "\n",
    "$$p(x_i|x_{i-1}) \\begin{cases}\n",
    "\\text{depends on } i & \\text{homogeneous MC}\\\\\n",
    "\\text{does not depend on } i & \\text{inhomogeneous MC}\n",
    "\\end{cases}$$"
   ]
  },
  {
   "cell_type": "markdown",
   "metadata": {},
   "source": [
    "### Hidden Markov model\n",
    "\n",
    "$$p(h_{1:d}, v_{1:d}) = p(v_1|h_1) p(h_1) \\prod_{i=2}^d p(v_i|h_i) p(h_i|h_{i-1})$$\n",
    "\n",
    "![](graphs/HMM_DAG.svg)\n",
    "\n",
    "![](graphs/HMM_FG.svg)\n",
    "\n",
    "- 1st order MC on hidden (latent) variables $h_i$\n",
    "- Each visible (observed) variable $v_i$ depends only on correspoding hidden variable $h_i$\n",
    "- Visibles are d-connected if hiddens are not observed, are d-separated if hiddens are given ($\\displaystyle v_s \\mathrel{\\perp\\mspace{-7mu}\\perp} v_{1:s-1} \\mid h_s$)\n",
    "- $h_i$ explain all dependencies between $v_i$\n",
    "- $\\displaystyle h_s \\mathrel{\\perp\\mspace{-7mu}\\perp} v_{1:s-1} \\mid h_{s-1}$\n",
    "    \n",
    "| Emission distribution<br>$p(v_i\\vert h_i)$ | $h_i$ discrete | $h_i$ continuous |\n",
    "| --- | --- | --- |\n",
    "| **$v_i$ discrete** | matrix | pmf |\n",
    "| **$v_i$ continuous** | pdf | pdf |\n",
    "    \n",
    "- If transition and emission distribution do not depent on $i$, stationary (homogemeous) HMM\n",
    "- Gaussian mixture model: HMM with cluster $h_i \\mathrel{\\perp\\mspace{-7mu}\\perp} h_{i-1}$"
   ]
  },
  {
   "cell_type": "markdown",
   "metadata": {},
   "source": [
    "### Inference\n",
    "\n",
    "| Inference | Meaning | <img width=120/>Probability |\n",
    "| --- | --- | --- |\n",
    "| Filtering | Given previous $v_{1:t-1}$ and current observations $v_t$<br>Infer current hidden state $h_t$ | $p(h_t \\vert v_{1:t})$ |\n",
    "| Smoothing | Given previous $v_{1:t-1}$ and future observations $v_{t:u}$<br>Infer hidden state $h_t$ | $p(h_t \\vert v_{1:u})$, ($t>u$) |\n",
    "| Prediction | Given previous observations $v_{1:u}$<br>Infer future hidden state $h_t$ | $p(h_t \\vert v_{1:u})$, ($t<u$) |\n",
    "| Most likely hidden path<br>(Viterbi alignment) | Given previous $v_{1:t-1}$ and current observations $v_t$<br>Find the most likely hidden path $h_{1:t}$ | $\\underset{h_{1:t}}{\\arg\\min} p(h_{1:t}\\vert v_{1:t})$ |\n",
    "\n",
    "#### Filtering\n",
    "\n",
    "By message passing: $\\displaystyle p(h_t | v_{1:t}) \\propto \\mu_{\\phi_t \\to h_t}(h_t) \\mu_{f_t \\to h_t}(h_t)$\n",
    "\n",
    "By alpha-recursion: $\\displaystyle p(h_t | v_{1:t}) \\propto \\mu_{h_t \\to \\phi_{t+1}}(h_t) = \\alpha(h_t)$\n",
    "- $\\displaystyle \\alpha(h_1) = p(h_1) \\cdot p(v_1|h_1) = p(h_1, v_1) \\propto p(h_1 | v_1)$\n",
    "- $\\displaystyle \\alpha(h_s) = p(v_s | h_s) \\sum_{h_{s-1}} p(h_s|h_{s-1}) \\alpha(h_{s-1}) \\overset{\\text{induction}}{=} p(h_s, v_{1:s}) \\propto p(h_s | v_{1:s}) \\propto \\underbrace{p(v_s|h_s)}_{\\text{correction}} \\underbrace{p(h_s|v_{1:s-1})}_{\\text{prediction}}$\n",
    "\n",
    "#### Smoothing\n",
    "\n",
    "By message passing: $\\displaystyle p(h_t|v_{1:u}) \\propto \\mu_{\\phi_t \\to h_t}(h_t) \\mu_{f_t \\to h_t}(h_t) \\mu_{\\phi_{t+1} \\to h_t}(h_t) = \\alpha(h_t) \\mu_{\\phi_{t+1} \\to h_t}(h_t)$\n",
    "\n",
    "By alpha-beta-recursion: $\\displaystyle p(h_t|v_{1:u}) \\propto \\alpha_{h_t} \\beta(h_t)$\n",
    "- $\\displaystyle \\beta(h_s) = \\sum_{h_{s+1}} p(h_{s+1}|h_s) p(v_{s+1}|h_{s+1}) \\beta(h_{s+1})$\n",
    "- $\\displaystyle \\beta(h_u) = 1$"
   ]
  },
  {
   "cell_type": "markdown",
   "metadata": {},
   "source": [
    "## Model-based Learning"
   ]
  },
  {
   "cell_type": "markdown",
   "metadata": {},
   "source": [
    "### Models\n",
    "\n",
    "- Probabilistic model: probability distribution (pmf/pdf)\n",
    "- Statistical model: set of probabilistic models\n",
    "- Bayesian model"
   ]
  },
  {
   "cell_type": "markdown",
   "metadata": {},
   "source": [
    "### Learning"
   ]
  },
  {
   "cell_type": "markdown",
   "metadata": {},
   "source": [
    "#### Maximum likelihood estimation\n",
    "\n",
    "$$\\hat{\\boldsymbol\\theta} = \\arg\\max_{\\boldsymbol\\theta} \\ell(\\boldsymbol\\theta) = \\arg\\max_{\\boldsymbol\\theta} L(\\boldsymbol\\theta)$$\n",
    "\n",
    "- $\\displaystyle \\nabla_{\\boldsymbol\\theta} \\ell(\\boldsymbol\\theta) |_{\\hat{\\boldsymbol\\theta}} = 0$ and $\\displaystyle \\left. \\frac{\\mathrm{d}^2 l(\\boldsymbol\\theta)}{\\mathrm{d} \\boldsymbol\\theta^2} \\right|_{\\hat{\\boldsymbol\\theta}} < 0$\n",
    "- Moment matching\n",
    "\n",
    "$$\\underbrace{\\mathbb E_{p(\\mathbf x; \\hat{\\boldsymbol\\theta})} \\left[ \\mathbf m(\\mathbf x; \\hat{\\boldsymbol\\theta}) \\right] = \\int \\mathbf m(\\mathbf x; \\hat{\\boldsymbol\\theta}) p(\\mathbf x; \\hat{\\boldsymbol\\theta}) \\mathrm d \\mathbf x}_{\\text{expected moment}} = \\underbrace{\\frac{1}{n} \\sum_{i=1}^n \\mathbf m(\\mathbf x_i; \\hat{\\boldsymbol\\theta})}_{\\text{empirical moment}}$$\n",
    "\n",
    "where $\\displaystyle p(\\mathbf x; \\boldsymbol\\theta) = \\frac{\\tilde p(\\mathbf x; \\boldsymbol\\theta)}{Z(\\boldsymbol\\theta)} = \\frac{\\tilde p(\\mathbf x; \\boldsymbol\\theta)}{\\int \\tilde p(\\mathbf x; \\boldsymbol\\theta) \\mathrm d \\mathbf x}$ and moment $\\mathbf m(\\mathbf x; \\boldsymbol\\theta) = \\nabla_{\\boldsymbol\\theta} \\log \\tilde p(\\mathbf x; \\boldsymbol\\theta)$\n",
    "\n",
    "- Ignore information contained in the data\n",
    "    - strong curvature: MLE clearly to be preferred\n",
    "    - shallow curvature: several other parameter values are nearly equally in line with the data\n",
    "    - curvature: $\\displaystyle \\mathbb E \\left[ \\frac{\\mathrm d^2 \\ell(\\boldsymbol\\theta)}{\\mathrm d \\boldsymbol\\theta^2} \\right]$ (negative of Fisher's information)"
   ]
  },
  {
   "cell_type": "markdown",
   "metadata": {},
   "source": [
    "#### Bayesian inference\n",
    "\n",
    "- Predictive posterior probability $\\displaystyle p(x^* | \\mathcal D) = \\int p(x^* | \\boldsymbol\\theta) p(\\boldsymbol\\theta | \\mathcal D) \\mathrm d \\boldsymbol\\theta$\n",
    "- Sampling from posterior = Sampling from prior that produce data equal to the observed"
   ]
  },
  {
   "cell_type": "markdown",
   "metadata": {},
   "source": [
    "### Intractable likehood"
   ]
  },
  {
   "cell_type": "markdown",
   "metadata": {},
   "source": [
    "#### Unobserved variables\n",
    "\n",
    "- Latent variables (e.g. HMM, FA)\n",
    "- Variables for which data are missing\n",
    "\n",
    "$$L(\\boldsymbol\\theta) = p(\\mathcal D; \\boldsymbol\\theta) = \\int_{\\mathbf u} p(\\mathbf u, \\mathcal D; \\boldsymbol\\theta) \\mathrm d \\mathbf u$$\n",
    "\n",
    "Evaluate by solving inference problem:\n",
    "\n",
    "$$\\boldsymbol\\theta' = \\boldsymbol\\theta + \\epsilon \\nabla_{\\boldsymbol\\theta} \\ell(\\boldsymbol\\theta)$$\n",
    "\n",
    "$$\\nabla_{\\boldsymbol\\theta} \\ell(\\boldsymbol\\theta) = \\int_{\\mathbf u} [\\nabla_{\\boldsymbol\\theta} \\log p(\\mathbf u, \\mathcal D; \\boldsymbol\\theta)] p(\\mathbf u | \\mathcal D; \\boldsymbol\\theta) \\mathrm d \\mathbf u = \\mathbb E_{\\mathbf u \\sim p(\\mathbf u | \\mathcal D; \\boldsymbol\\theta)} \\left[ \\nabla_{\\boldsymbol\\theta} \\log p(\\mathbf u, \\mathcal D; \\boldsymbol\\theta) \\mid \\mathcal D; \\boldsymbol\\theta \\right]$$\n",
    "\n",
    "Interpretation: Average of *gradient of log-likelihood* weighted by *plausibility of filled-in missing data*"
   ]
  },
  {
   "cell_type": "markdown",
   "metadata": {},
   "source": [
    "#### Intractable partition functions\n",
    "\n",
    "- Ignoring $Z(\\boldsymbol\\theta)$ leads to errors in MLE\n",
    "- Expensive to evaluate in MLE or Bayesian inference\n",
    "\n",
    "$$\\ell(\\boldsymbol\\theta) = \\sum_{i=1}^n \\log p(\\mathbf x_i; \\boldsymbol\\theta) = \\sum_{i=1}^n \\log \\tilde p(\\mathbf x_i; \\boldsymbol\\theta) - n \\log Z(\\boldsymbol\\theta)$$\n",
    "\n",
    "Evaluate by solving inference problem with moment:\n",
    "\n",
    "$$\\nabla_{\\boldsymbol\\theta} \\ell(\\boldsymbol\\theta) = \\sum_{i=1}^n \\mathbf m(\\mathbf x_i; \\boldsymbol\\theta) - n \\mathbb E_{p(\\mathbf x; \\boldsymbol\\theta)} [\\mathbf m(\\mathbf x; \\boldsymbol\\theta)]$$"
   ]
  },
  {
   "cell_type": "markdown",
   "metadata": {},
   "source": [
    "#### Combined case\n",
    "\n",
    "- Restricted Boltzmann machines\n",
    "\n",
    "$$\\ell(\\boldsymbol\\theta) = \\log \\left[ \\int_{\\mathbf u} \\tilde p(\\mathbf u, \\mathcal D; \\boldsymbol\\theta) \\mathrm d \\mathbf u \\right] - \\log \\left[ \\int_{\\mathbf u, \\mathbf v} \\tilde p(\\mathbf u, \\mathbf v; \\boldsymbol\\theta) \\mathrm d \\mathbf u \\mathrm d \\mathbf v \\right]$$\n",
    "\n",
    "Evaluate by solving inference problem with moment $\\displaystyle \\mathbf m(\\mathbf u, \\mathbf v; \\boldsymbol\\theta) = \\nabla_{\\boldsymbol\\theta} \\log \\tilde p(\\mathbf u, \\mathbf v; \\boldsymbol\\theta)$:\n",
    "\n",
    "$$\\nabla_{\\boldsymbol\\theta} \\ell(\\boldsymbol\\theta) = \\mathbb E_{p(\\mathbf u | \\mathcal D; \\boldsymbol\\theta)} [ \\mathbf m(\\mathbf u, \\mathcal D; \\boldsymbol\\theta) \\mid \\mathcal D; \\boldsymbol\\theta ] - \\mathbb E_{p(\\mathbf u, \\mathbf v; \\boldsymbol\\theta)} [ \\mathbf m(\\mathbf u, \\mathbf v; \\boldsymbol\\theta); \\boldsymbol\\theta ]$$"
   ]
  },
  {
   "cell_type": "markdown",
   "metadata": {},
   "source": [
    "### Score matching\n",
    "\n",
    "\\begin{align*}\n",
    "\\text{Model score function} && \\boldsymbol\\psi(\\mathbf x; \\boldsymbol\\theta) &= \\nabla_{\\mathbf x} \\log p(\\mathbf x; \\boldsymbol\\theta) = \\nabla_{\\mathbf x} \\log \\tilde p(\\mathbf x; \\boldsymbol\\theta) \\\\\n",
    "\\text{Data score function} && \\boldsymbol\\psi_*(\\mathbf x) &= \\nabla_{\\mathbf x} \\log p_*(\\mathbf x) \\\\\n",
    "\\text{SM cost function} && J_{\\text{sm}}(\\boldsymbol\\theta) &= \\frac{1}{2} \\mathbb E_{p_*(\\mathbf x)} \\| \\boldsymbol\\psi(\\mathbf x; \\boldsymbol\\theta) - \\boldsymbol\\psi_*(\\mathbf x) \\|^2 \\\\\n",
    "&& &= \\mathbb E_* \\sum_{j=1}^d \\left[ \\partial_j \\psi_j (\\mathbf x; \\boldsymbol\\theta) + \\frac{1}{2} \\psi_j^2 (\\mathbf x; \\boldsymbol\\theta) \\right] + \\mathrm{const} \\\\\n",
    "\\text{Estimate by sample mean} && \\hat{\\boldsymbol\\theta} &= \\arg \\min_{\\boldsymbol\\theta} J(\\boldsymbol\\theta) \\\\\n",
    "&& J(\\boldsymbol\\theta) &= \\frac{1}{n} \\sum_{i=1}^n \\sum_{j=1}^d \\left[ \\partial_j \\psi_j (\\mathbf x_i; \\boldsymbol\\theta) + \\frac{1}{2} \\psi_j^2 (\\mathbf x_i; \\boldsymbol\\theta) \\right]\n",
    "\\end{align*}\n",
    "\n",
    "Requirements:\n",
    "\n",
    "- $\\displaystyle [p_*(\\mathbf x) \\psi_j (\\mathbf x; \\boldsymbol\\theta)]_{a_j}^{b_j} = 0$, where $a_j$ and $b_j$ are bounds of $p_*$\n",
    "- Seconde derivatives of $\\log \\tilde p(\\mathbf x; \\boldsymbol\\theta)$ exists and is smooth s.t. can be optimised by gradient-based methods"
   ]
  },
  {
   "cell_type": "markdown",
   "metadata": {},
   "source": [
    "## Factor Analysis\n",
    "\n",
    "![](graphs/FA_ICA.svg)\n",
    "\n",
    "\\begin{align*}\n",
    "\\underset{H \\times 1}{\\mathbf h} &\\sim \\mathcal N(\\mathbf 0, \\mathbf I_H) \\\\\n",
    "\\underset{D \\times 1}{\\boldsymbol\\epsilon} &\\sim \\mathcal N(\\mathbf 0, \\underset{D \\times D}{\\boldsymbol\\Psi}) \\\\\n",
    "\\underset{D \\times 1}{\\mathbf v} &= \\underset{D \\times H}{\\mathbf F} \\underset{H \\times 1}{\\mathbf h} + \\underset{D \\times 1}{\\mathbf c} + \\underset{D \\times 1}{\\boldsymbol\\epsilon} \\\\\n",
    "\\mathbf v | \\mathbf h &\\sim \\mathcal N(\\mathbf{Fh}+\\mathbf c, \\boldsymbol\\Psi)\n",
    "\\end{align*}\n",
    "\n",
    "- Factors $\\mathbf F = (\\mathbf f_1, \\ldots, \\mathbf f_H)$\n",
    "- Factor matrix not unique, with orthogonal matrix $\\mathbf R$:\n",
    "\n",
    "\\begin{align*}\n",
    "\\mathbf v &= \\mathbf{Fh} + \\mathbf c + \\boldsymbol\\epsilon \\\\\n",
    "&= (\\mathbf{FR}) (\\mathbf R^\\top \\mathbf h) + \\mathbf c + \\boldsymbol\\epsilon \\\\\n",
    "&= (\\mathbf{FR}) \\tilde{\\mathbf h} + \\mathbf c + \\boldsymbol\\epsilon\n",
    "\\end{align*}\n",
    "\n",
    "- Choose $\\mathbf R$ s.t. $\\mathbf{FR}$ has some desirable properties\n",
    "- If $\\boldsymbol\\Psi = \\sigma^2 \\mathbf I$, PPCA\n",
    "- Richer description of additive noise, e.g. depend on pixels s.t. zero for pixels on the boundary"
   ]
  },
  {
   "cell_type": "markdown",
   "metadata": {},
   "source": [
    "## Independent Component Analysis\n",
    "\n",
    "![](graphs/FA_ICA.svg)\n",
    "\n",
    "\\begin{align*}\n",
    "p(\\underset{H \\times 1}{\\mathbf h}) &= \\prod_i p_h(h_i) \\\\\n",
    "\\underset{D \\times 1}{\\boldsymbol\\epsilon} &\\sim \\mathcal N(\\mathbf 0, \\underset{D \\times D}{\\boldsymbol\\Psi}) \\\\\n",
    "\\underset{D \\times 1}{\\mathbf v} &= \\underset{D \\times H}{\\mathbf A} \\underset{H \\times 1}{\\mathbf h} + \\underset{D \\times 1}{\\mathbf c} + \\underset{D \\times 1}{\\boldsymbol\\epsilon} \\\\\n",
    "\\mathbf v | \\mathbf h &\\sim \\mathcal N(\\mathbf{Ah}+\\mathbf c, \\boldsymbol\\Psi)\n",
    "\\end{align*}\n",
    "\n",
    "- $\\boldsymbol\\Psi \\ne \\mathbf 0$ - noisy ICA\n",
    "- overcomplete: $H>D$, undercomplete: $H<D$\n",
    "- Mixing matrix $\\mathbf A$\n",
    "- Typically $\\mathbf c = \\mathbf 0$, $\\mathbb E(h_i) = 0$ and $\\mathrm{Var}(h_i) = 1$\n",
    "- Ordering and scaling of columns of $\\mathbf A$ are not unique:\n",
    "\n",
    "$$\\mathbf v = \\mathbf{Ah} = \\sum_{i=1}^D \\mathbf a_i h_i = \\sum_{k=1}^D \\mathbf a_{i_k} h_{i_k} = \\sum_{i=1}^D (\\mathbf a_i \\alpha_i) \\frac{1}{\\alpha_i} h_i$$\n",
    "- Scaling fixed by assumption $\\mathrm{Var}(h_i) = 1$"
   ]
  },
  {
   "cell_type": "markdown",
   "metadata": {},
   "source": [
    "### Non-Gaussian latents\n",
    "\n",
    "- Sub-Gaussian pdf: less peaked at 0 than Gaussian of same variance\n",
    "- Super-Gaussian pdf: more peaked at 0 than Gaussian of same variance"
   ]
  },
  {
   "cell_type": "code",
   "execution_count": 5,
   "metadata": {
    "hide_input": true
   },
   "outputs": [],
   "source": [
    "from scipy.stats import norm, uniform, laplace\n",
    "import numpy as np\n",
    "from matplotlib import pyplot as plt\n",
    "import seaborn as sns\n",
    "import pandas as pd"
   ]
  },
  {
   "cell_type": "code",
   "execution_count": 35,
   "metadata": {
    "hide_input": true
   },
   "outputs": [
    {
     "data": {
      "image/png": "[encoded data removed]",
      "text/plain": [
       "<Figure size 432x288 with 1 Axes>"
      ]
     },
     "metadata": {},
     "output_type": "display_data"
    }
   ],
   "source": [
    "df = pd.DataFrame(np.linspace(-4,4,1000), columns=['x'])\n",
    "df['Normal'] = norm.pdf(df['x'])\n",
    "df['Uniform'] = uniform.pdf(df['x'], -np.sqrt(3), 2*np.sqrt(3))\n",
    "df['Laplace'] = laplace.pdf(df['x'], 0, np.sqrt(2)/2)\n",
    "\n",
    "sns.set()\n",
    "sns.lineplot('x', 'Normal', data=df, label='Normal')\n",
    "sns.lineplot('x', 'Uniform', data=df, label='Uniform')\n",
    "sns.lineplot('x', 'Laplace', data=df, label='Laplace')\n",
    "plt.ylabel('Probability')\n",
    "plt.show()"
   ]
  },
  {
   "cell_type": "markdown",
   "metadata": {},
   "source": [
    "### Likelihood\n",
    "\n",
    "$$p(\\mathbf v; \\mathbf A) = p_{\\mathbf h}(\\mathbf A^{-1} \\mathbf v) |\\mathrm{det} \\mathbf A^{-1}| = p_{\\mathbf h}(\\mathbf B \\mathbf v) |\\mathrm{det} \\mathbf B| = |\\mathrm{det} \\mathbf B| \\prod_{i=1}^D p_h(\\mathbf b_j^\\top \\mathbf v) = p(\\mathbf v; \\mathbf B)$$\n",
    "\n",
    "- MLE of $\\mathbf B$ and $\\mathbf A$ can be uniquely estimated, up to scaling and ordering\n",
    "- Non-Gaussianity solves the 'factor rotation' problem in FA\n",
    "- To estimate $p_h$ is difficult"
   ]
  },
  {
   "cell_type": "markdown",
   "metadata": {},
   "source": [
    "## Sampling"
   ]
  },
  {
   "cell_type": "markdown",
   "metadata": {},
   "source": [
    "### Monte Carlo integration\n",
    "\n",
    "$$\\mathbb E[x] \\approx \\frac{1}{n} \\sum_{i=1}^n x_i \\quad \\mathbb E[g(x)] \\approx \\frac{1}{n} \\sum_{i=1}^n g(x_i)$$"
   ]
  },
  {
   "cell_type": "markdown",
   "metadata": {},
   "source": [
    "### Importance sampling\n",
    "\n",
    "$$\\int g(\\mathbf x) \\mathrm d \\mathbf x = \\int g(\\mathbf x) \\frac{q(\\mathbf x)}{q(\\mathbf x)} \\mathrm d \\mathbf x = \\mathbb E_{q(\\mathbf x)} \\left[ \\frac{g(\\mathbf x)}{q(\\mathbf x)} \\right] \\approx \\frac{1}{n} \\sum_{i=1}^n \\frac{g(\\mathbf x_i)}{q(\\mathbf x_i)}$$\n",
    "\n",
    "- Choose $q(\\mathbf x)$ such that $\\displaystyle \\frac{|g(\\mathbf x)|}{q(\\mathbf x)}$ approximately constant"
   ]
  },
  {
   "cell_type": "markdown",
   "metadata": {},
   "source": [
    "### Inverse transform sampling\n",
    "\n",
    "#### Discrete\n",
    "\n",
    "$$p(x) = \\begin{cases}\n",
    "p_1 & x=x_1 \\\\\n",
    "p_2 & x=x_2 \\\\\n",
    "\\vdots & \\vdots \\\\\n",
    "p_n & x=x_n\n",
    "\\end{cases}, \\quad p_0=0, \\sum_{i=1}^n p_i = 1$$\n",
    "\n",
    "1. Simulate $u \\sim \\mathcal U[0,1]$\n",
    "1. Set $x=x_k$ if $p_{k-1} \\leq u < p_k$\n",
    "\n",
    "#### Continuous\n",
    "\n",
    "1. Calculate inverse of cdf $F_x^{-1}$\n",
    "1. Simulate $u \\sim \\mathcal U[0,1]$\n",
    "1. Set $x = F_x^{-1}(u)$"
   ]
  },
  {
   "cell_type": "markdown",
   "metadata": {},
   "source": [
    "### Rejection sampling\n",
    "\n",
    "1. Simulate $x \\sim q(x)$\n",
    "1. Generate $y|x \\sim \\mathcal B(f(x))$\n",
    "1. Accept $x$ if $y=1$\n",
    "\n",
    "\n",
    "- Choose $f(x) \\propto p(x) / q(x)$\n",
    "- $\\displaystyle x_i \\sim \\frac{q(x)f(x)}{\\int q(x) f(x) \\mathrm d x}$\n",
    "- Limited to low-dim cases"
   ]
  },
  {
   "cell_type": "markdown",
   "metadata": {},
   "source": [
    "### Ancestral sampling\n",
    "\n",
    "Example: $p(x_1, \\ldots, x_5) = p(x_1) p(x_2) p(x_3 | x_1, x_2) p(x_4 | x_3) p(x_5 | x_2)$\n",
    "\n",
    "1. Simulate $x_1 \\sim p(x_1)$ and $x_2 \\sim p(x_2)$\n",
    "1. Generate $x_3 \\sim p(x_3 | x_1, x_2)$ and $x_5 \\sim p(x_5 | x_2)$\n",
    "1. Generate $x_4 \\sim p(x_4 | x_3)$ "
   ]
  },
  {
   "cell_type": "markdown",
   "metadata": {},
   "source": [
    "### Gibbs sampling\n",
    "\n",
    "1. Set initial state $\\mathbf x^1 = (x_1^1, \\ldots, x_d^1)$\n",
    "1. Generate $x_i^k \\sim p(x_i | \\mathbf x_{\\backslash i}^{k-1})$ for $i \\in \\{ 1, \\ldots, d\\}$\n",
    "\n",
    "\n",
    "- Use $p(x_i | \\mathrm{MB}(x_i))$ for simplicity"
   ]
  },
  {
   "cell_type": "markdown",
   "metadata": {},
   "source": [
    "## Variational Inference and Learning\n",
    "\n",
    "- **Concave function** (by Jensen's inequality): $\\log \\mathbb E [g(x)] \\geq \\mathbb E [ \\log g(x) ]$\n",
    "- **Kullback-Leiber (KL) divergence**: $\\displaystyle \\mathrm{KL} (p \\| q) = \\int p(\\mathbf x) \\log \\frac{p(\\mathbf x)}{q(\\mathbf x)} \\mathrm d \\mathbf x = \\mathbb E_{p(\\mathbf x)} \\left[ \\log \\frac{p(\\mathbf x)}{q(\\mathbf x)} \\right]= \\begin{cases}\n",
    "    0 & p(\\mathbf x) = q(\\mathbf x) \\\\\n",
    "    \\text{positive} & \\text{otherwise}\n",
    "\\end{cases}$\n",
    "    - Asymmetric $\\mathrm{KL}(p\\|q) \\neq \\mathrm{KL}(q\\|p)$\n",
    "    - $\\arg\\min_q \\mathrm{KL}(q\\|p)$:\n",
    "        - avoid regions where $p$ is small\n",
    "        - produce good local fit, 'mode seeking'\n",
    "    - $\\arg\\min_q \\mathrm{KL}(p\\|q)$:\n",
    "        - nonzero where $p$ is nonzero\n",
    "        - does not care about regions where $p$ is small\n",
    "        - corresponds to MLE\n",
    "        - produce global fit / moment matching"
   ]
  },
  {
   "cell_type": "markdown",
   "metadata": {},
   "source": [
    "**Authors:** s1680642\n",
    "\n",
    "**Licensing:** <a rel=\"license\" href=\"http://creativecommons.org/licenses/by-nc-sa/4.0/\"><img alt=\"Creative Commons Licence\" style=\"border-width:0\" src=\"https://i.creativecommons.org/l/by-nc-sa/4.0/88x31.png\" /></a><br />This work is licensed under a <a rel=\"license\" href=\"http://creativecommons.org/licenses/by-nc-sa/4.0/\">Creative Commons Attribution-NonCommercial-ShareAlike 4.0 International License</a>."
   ]
  }
 ],
 "metadata": {
  "kernelspec": {
   "display_name": "Python 3",
   "language": "python",
   "name": "python3"
  },
  "language_info": {
   "codemirror_mode": {
    "name": "ipython",
    "version": 3
   },
   "file_extension": ".py",
   "mimetype": "text/x-python",
   "name": "python",
   "nbconvert_exporter": "python",
   "pygments_lexer": "ipython3",
   "version": "3.7.3"
  },
  "toc": {
   "base_numbering": 1,
   "nav_menu": {},
   "number_sections": true,
   "sideBar": true,
   "skip_h1_title": true,
   "title_cell": "Table of Contents",
   "title_sidebar": "Contents",
   "toc_cell": false,
   "toc_position": {},
   "toc_section_display": true,
   "toc_window_display": true
  }
 },
 "nbformat": 4,
 "nbformat_minor": 2
}
