{
 "cells": [
  {
   "cell_type": "markdown",
   "metadata": {},
   "source": [
    "# Numerical Linear Algebra and Applications (2016)"
   ]
  },
  {
   "cell_type": "markdown",
   "metadata": {},
   "source": [
    "## Orthogonal matrix\n",
    "\n",
    "$$P\\cdot P^T=I$$"
   ]
  },
  {
   "cell_type": "markdown",
   "metadata": {},
   "source": [
    "## Vector norm\n",
    "\n",
    "\\begin{align*}\n",
    "\\| \\boldsymbol x \\|_1 &= \\sum_{i=1}^n |x_i| &\\quad \\text{(sum of absolute values)} \\\\\n",
    "\\| \\boldsymbol x \\|_2 &= \\sqrt{\\sum_{i=1}^n x_i^2} &\\quad \\text{(root sum of squares)} \\\\\n",
    "\\| \\boldsymbol x \\|_\\infty &= \\max_i |x_i| &\\quad \\text{(maximum value of absolute values)}\n",
    "\\end{align*}\n"
   ]
  },
  {
   "cell_type": "markdown",
   "metadata": {},
   "source": [
    "## Computational cost\n",
    "\n",
    "- Calculate flops"
   ]
  },
  {
   "cell_type": "markdown",
   "metadata": {},
   "source": [
    "## Floating point computation"
   ]
  },
  {
   "cell_type": "markdown",
   "metadata": {},
   "source": [
    "## Gaussian elimination\n",
    "1. $\\displaystyle M_1 = \\begin{bmatrix} 1 & & \\\\ -a_{21}/a_{11} & 1 & \\\\ -a_{31}/a_{11} & 0 & 1 \\end{bmatrix}$\n",
    "1. $A^{(2)} = M_1 A^{(1)}$, $\\boldsymbol b^{(2)} = M_1 \\boldsymbol b^{(1)}$\n",
    "1. $M$下標去到$n-1$, $A$, $\\boldsymbol b$上標去到$n$\n",
    "1. 用GE推LU\n",
    "1. $L = M_1^{-1} M_2^{-1} \\cdots M_{n-1}^{-1}$, $U=A^{(n)}$\n",
    "1. Computational cost of GE: \n",
    "    - Form $M$ explicitly, $O(n^4)$\n",
    "    - Not form $M$, $O(n^3)=\\frac{2}{3}n^3$"
   ]
  },
  {
   "cell_type": "markdown",
   "metadata": {},
   "source": [
    "## GE with Partial Pivoting (GEPP)\n",
    "\n",
    "- 用絕對值最大值元素做pivot\n",
    "- 比例叫做$l$"
   ]
  },
  {
   "cell_type": "markdown",
   "metadata": {},
   "source": [
    "## LU\n",
    "\n",
    "$$ L = \\begin{bmatrix} 1 & & \\\\ l_{21} & 1 & \\\\ l_{31} & l_{32} & 1 \\end{bmatrix} \\quad U = \\begin{bmatrix} u_{11} & u_{12} & u_{13} \\\\ & u_{22} & u_{23} \\\\ & & u_{33} \\end{bmatrix}$$\n",
    "   \n",
    "- Exists, and, is uniquely defined"
   ]
  },
  {
   "cell_type": "markdown",
   "metadata": {},
   "source": [
    "## PA=LU\n",
    "\n",
    "1. $A=P^T LU$, $x=A^{−1} \\boldsymbol b=U^{−1} L^{−1} P \\boldsymbol b$\n",
    "1. Form $\\boldsymbol y=P \\boldsymbol b$\n",
    "1. Solve $L \\boldsymbol z=\\boldsymbol y$\n",
    "1. Solve $U \\boldsymbol x=\\boldsymbol z$"
   ]
  },
  {
   "cell_type": "markdown",
   "metadata": {},
   "source": [
    "## Cholesky decomposition\n",
    "\n",
    "$$ A = LL^T = \\begin{bmatrix} l_{11} & & \\\\ l_{21} & l_{22} & \\\\ l_{31} & l_{32} & l_{33} \\end{bmatrix} \\begin{bmatrix} l_{11} & l_{21} & l_{31} \\\\ & l_{22} & l_{32} \\\\ & & l_{33} \\end{bmatrix}$$\n",
    "\n",
    "- 取正數\n",
    "- Computational cost: $O(n^3)$\n",
    "- $A$ is positive definite iff diagonal entries $d_i>0$\n",
    "- Well-defined iff $d_i>0$ for $i=1, \\ldots, n-1$ and $d_n\\geq0$"
   ]
  },
  {
   "cell_type": "markdown",
   "metadata": {},
   "source": [
    "## Positive (semi-)definite matrix $A$\n",
    "\n",
    "- $\\boldsymbol x^T A \\boldsymbol x\\geq0$\n",
    "- All eigenvalue are non-negative\n",
    "- Testing positive definiteness: $[R, p]=\\mathrm{chol}(A)$, $p=0$\n",
    "\n",
    "$$A \\text{ is positive definite } \\Leftrightarrow d_i>0 \\text{ for } i=1, \\ldots, n$$\n",
    "\n",
    "- $\\Rightarrow$ By induction: \n",
    "    1. $n=1$, true, (det)\n",
    "    1. Assume $n=k$ true, $d_k>0$\n",
    "    1. $n=k+1$, $L_{k+1}$ well define, $0<\\det(A_{k+1})=\\det(\\text{Cholesky})$\n",
    "    1. $d_{k+1}>0$\n",
    "- $\\Leftarrow$\n",
    "    1. $A=LL^T$\n",
    "    1. $\\boldsymbol x^T A \\boldsymbol x= \\boldsymbol x^T LL^T \\boldsymbol x= \\| L^T \\boldsymbol x\\|_2^2\\geq0$\n",
    "    1. \"$=$\" when $x=0$"
   ]
  },
  {
   "cell_type": "markdown",
   "metadata": {},
   "source": [
    "## $LDL^T$ decomposition\n",
    "\n",
    "$$\\tilde L = LD^{-\\frac{1}{2}}$$\n",
    "\n",
    "- $L$ is Cholesky decompostion"
   ]
  },
  {
   "cell_type": "markdown",
   "metadata": {},
   "source": [
    "## Matrix norm\n",
    "\n",
    "- $\\displaystyle \\| A \\|_p = \\max_{x \\neq 0} \\frac{\\| A \\boldsymbol x \\|_p}{\\| \\boldsymbol x \\|_p}$\n",
    "- 1-norm: 列絕對值和 最大值\n",
    "- Inf-norm: 行絕對值和 最大值\n",
    "- $\\displaystyle \\| A \\|_2 = \\sqrt{\\max_{1 \\leq j \\leq n} \\lambda_j (A^T A)}$\n",
    "- $\\| A \\boldsymbol x \\| \\leq \\|A\\| \\|\\boldsymbol x\\|$\n",
    "- $\\| A + B \\| \\leq \\|A\\| + \\|B\\|$\n",
    "- $\\|AB\\| \\leq \\|A\\| \\|B\\|$"
   ]
  },
  {
   "cell_type": "markdown",
   "metadata": {},
   "source": [
    "## Spectral radius\n",
    "\n",
    "$$\\rho(A)=\\max_i⁡ |\\lambda_i (A)|$$"
   ]
  },
  {
   "cell_type": "markdown",
   "metadata": {},
   "source": [
    "## Over-determined system\n",
    "\n",
    "$$A^T A \\boldsymbol x=A^T \\boldsymbol b$$"
   ]
  },
  {
   "cell_type": "markdown",
   "metadata": {},
   "source": [
    "## Householder matrices\n",
    "\n",
    "1. 計norm, 正就加, 負就減\n",
    "1. $\\displaystyle H=I− \\frac{2\\boldsymbol{uu}^T}{\\boldsymbol u^T \\boldsymbol u}$\n",
    "1. $A$要計到第$n+1$個\n",
    "![](NLAA_2016_Householder.png)\n",
    "(credit: School of Mathematics, The University of Edinburgh)"
   ]
  },
  {
   "cell_type": "markdown",
   "metadata": {},
   "source": [
    "## QR decomposition\n",
    "\n",
    "- $Q$ is orthogonal, $R$ is upper triangular\n",
    "- $A \\boldsymbol x=QR \\boldsymbol x=b \\Rightarrow R\\boldsymbol x=Q^T \\boldsymbol b$\n",
    "- Reduced: $A=Q_1 R_1$"
   ]
  },
  {
   "cell_type": "code",
   "execution_count": 1,
   "metadata": {
    "hide_input": true,
    "scrolled": true
   },
   "outputs": [],
   "source": [
    "%load_ext tikzmagic"
   ]
  },
  {
   "cell_type": "code",
   "execution_count": 2,
   "metadata": {
    "hide_input": true,
    "scrolled": true
   },
   "outputs": [
    {
     "data": {
      "image/svg+xml": [
       "<svg height=\"240px\" version=\"1.1\" viewBox=\"0 0 253.014 96.368\" width=\"400px\" xmlns=\"http://www.w3.org/2000/svg\" xmlns:xlink=\"http://www.w3.org/1999/xlink\">\n",
       "<defs>\n",
       "<g>\n",
       "<symbol id=\"glyph0-0\" overflow=\"visible\">\n",
       "<path d=\"\" style=\"stroke:none;\"/>\n",
       "</symbol>\n",
       "<symbol id=\"glyph0-1\" overflow=\"visible\">\n",
       "<path d=\"M 0.875 -0.59375 C 0.84375 -0.4375 0.78125 -0.203125 0.78125 -0.15625 C 0.78125 0.015625 0.921875 0.109375 1.078125 0.109375 C 1.203125 0.109375 1.375 0.03125 1.453125 -0.171875 C 1.453125 -0.1875 1.578125 -0.65625 1.640625 -0.90625 L 1.859375 -1.796875 C 1.90625 -2.03125 1.96875 -2.25 2.03125 -2.46875 C 2.0625 -2.640625 2.140625 -2.9375 2.15625 -2.96875 C 2.296875 -3.28125 2.828125 -4.1875 3.78125 -4.1875 C 4.234375 -4.1875 4.3125 -3.8125 4.3125 -3.484375 C 4.3125 -3.234375 4.25 -2.953125 4.171875 -2.65625 L 3.890625 -1.5 L 3.6875 -0.75 C 3.65625 -0.546875 3.5625 -0.203125 3.5625 -0.15625 C 3.5625 0.015625 3.703125 0.109375 3.84375 0.109375 C 4.15625 0.109375 4.21875 -0.140625 4.296875 -0.453125 C 4.4375 -1.015625 4.8125 -2.46875 4.890625 -2.859375 C 4.921875 -2.984375 5.453125 -4.1875 6.546875 -4.1875 C 6.96875 -4.1875 7.078125 -3.84375 7.078125 -3.484375 C 7.078125 -2.921875 6.65625 -1.78125 6.453125 -1.25 C 6.375 -1.015625 6.328125 -0.90625 6.328125 -0.703125 C 6.328125 -0.234375 6.671875 0.109375 7.140625 0.109375 C 8.078125 0.109375 8.453125 -1.34375 8.453125 -1.421875 C 8.453125 -1.53125 8.359375 -1.53125 8.328125 -1.53125 C 8.234375 -1.53125 8.234375 -1.5 8.1875 -1.34375 C 8.03125 -0.8125 7.71875 -0.109375 7.171875 -0.109375 C 7 -0.109375 6.921875 -0.203125 6.921875 -0.4375 C 6.921875 -0.6875 7.015625 -0.921875 7.109375 -1.140625 C 7.296875 -1.671875 7.71875 -2.765625 7.71875 -3.34375 C 7.71875 -3.984375 7.3125 -4.40625 6.5625 -4.40625 C 5.828125 -4.40625 5.3125 -3.96875 4.9375 -3.4375 C 4.9375 -3.5625 4.90625 -3.90625 4.625 -4.140625 C 4.375 -4.359375 4.0625 -4.40625 3.8125 -4.40625 C 2.90625 -4.40625 2.421875 -3.765625 2.25 -3.53125 C 2.203125 -4.109375 1.78125 -4.40625 1.328125 -4.40625 C 0.875 -4.40625 0.6875 -4.015625 0.59375 -3.84375 C 0.421875 -3.484375 0.296875 -2.90625 0.296875 -2.875 C 0.296875 -2.765625 0.390625 -2.765625 0.40625 -2.765625 C 0.515625 -2.765625 0.515625 -2.78125 0.578125 -3 C 0.75 -3.703125 0.953125 -4.1875 1.3125 -4.1875 C 1.46875 -4.1875 1.609375 -4.109375 1.609375 -3.734375 C 1.609375 -3.515625 1.578125 -3.40625 1.453125 -2.890625 Z M 0.875 -0.59375 \" style=\"stroke:none;\"/>\n",
       "</symbol>\n",
       "<symbol id=\"glyph0-2\" overflow=\"visible\">\n",
       "<path d=\"M 0.875 -0.59375 C 0.84375 -0.4375 0.78125 -0.203125 0.78125 -0.15625 C 0.78125 0.015625 0.921875 0.109375 1.078125 0.109375 C 1.203125 0.109375 1.375 0.03125 1.453125 -0.171875 C 1.453125 -0.1875 1.578125 -0.65625 1.640625 -0.90625 L 1.859375 -1.796875 C 1.90625 -2.03125 1.96875 -2.25 2.03125 -2.46875 C 2.0625 -2.640625 2.140625 -2.9375 2.15625 -2.96875 C 2.296875 -3.28125 2.828125 -4.1875 3.78125 -4.1875 C 4.234375 -4.1875 4.3125 -3.8125 4.3125 -3.484375 C 4.3125 -2.875 3.828125 -1.59375 3.671875 -1.171875 C 3.578125 -0.9375 3.5625 -0.8125 3.5625 -0.703125 C 3.5625 -0.234375 3.921875 0.109375 4.390625 0.109375 C 5.328125 0.109375 5.6875 -1.34375 5.6875 -1.421875 C 5.6875 -1.53125 5.609375 -1.53125 5.578125 -1.53125 C 5.46875 -1.53125 5.46875 -1.5 5.421875 -1.34375 C 5.21875 -0.671875 4.890625 -0.109375 4.40625 -0.109375 C 4.234375 -0.109375 4.171875 -0.203125 4.171875 -0.4375 C 4.171875 -0.6875 4.25 -0.921875 4.34375 -1.140625 C 4.53125 -1.671875 4.953125 -2.765625 4.953125 -3.34375 C 4.953125 -4 4.53125 -4.40625 3.8125 -4.40625 C 2.90625 -4.40625 2.421875 -3.765625 2.25 -3.53125 C 2.203125 -4.09375 1.796875 -4.40625 1.328125 -4.40625 C 0.875 -4.40625 0.6875 -4.015625 0.59375 -3.84375 C 0.421875 -3.5 0.296875 -2.90625 0.296875 -2.875 C 0.296875 -2.765625 0.390625 -2.765625 0.40625 -2.765625 C 0.515625 -2.765625 0.515625 -2.78125 0.578125 -3 C 0.75 -3.703125 0.953125 -4.1875 1.3125 -4.1875 C 1.5 -4.1875 1.609375 -4.0625 1.609375 -3.734375 C 1.609375 -3.515625 1.578125 -3.40625 1.453125 -2.890625 Z M 0.875 -0.59375 \" style=\"stroke:none;\"/>\n",
       "</symbol>\n",
       "<symbol id=\"glyph0-3\" overflow=\"visible\">\n",
       "<path d=\"M 1.78125 -1.140625 C 1.390625 -0.484375 1 -0.34375 0.5625 -0.3125 C 0.4375 -0.296875 0.34375 -0.296875 0.34375 -0.109375 C 0.34375 -0.046875 0.40625 0 0.484375 0 C 0.75 0 1.0625 -0.03125 1.328125 -0.03125 C 1.671875 -0.03125 2.015625 0 2.328125 0 C 2.390625 0 2.515625 0 2.515625 -0.1875 C 2.515625 -0.296875 2.4375 -0.3125 2.359375 -0.3125 C 2.140625 -0.328125 1.890625 -0.40625 1.890625 -0.65625 C 1.890625 -0.78125 1.953125 -0.890625 2.03125 -1.03125 L 2.796875 -2.296875 L 5.296875 -2.296875 C 5.3125 -2.09375 5.453125 -0.734375 5.453125 -0.640625 C 5.453125 -0.34375 4.9375 -0.3125 4.734375 -0.3125 C 4.59375 -0.3125 4.5 -0.3125 4.5 -0.109375 C 4.5 0 4.609375 0 4.640625 0 C 5.046875 0 5.46875 -0.03125 5.875 -0.03125 C 6.125 -0.03125 6.765625 0 7.015625 0 C 7.0625 0 7.1875 0 7.1875 -0.203125 C 7.1875 -0.3125 7.09375 -0.3125 6.953125 -0.3125 C 6.34375 -0.3125 6.34375 -0.375 6.3125 -0.671875 L 5.703125 -6.890625 C 5.6875 -7.09375 5.6875 -7.140625 5.515625 -7.140625 C 5.359375 -7.140625 5.3125 -7.0625 5.25 -6.96875 Z M 2.984375 -2.609375 L 4.9375 -5.90625 L 5.265625 -2.609375 Z M 2.984375 -2.609375 \" style=\"stroke:none;\"/>\n",
       "</symbol>\n",
       "<symbol id=\"glyph0-4\" overflow=\"visible\">\n",
       "<path d=\"M 4.359375 -0.0625 C 5.90625 -0.640625 7.375 -2.421875 7.375 -4.34375 C 7.375 -5.953125 6.3125 -7.03125 4.828125 -7.03125 C 2.6875 -7.03125 0.484375 -4.765625 0.484375 -2.4375 C 0.484375 -0.78125 1.609375 0.21875 3.046875 0.21875 C 3.296875 0.21875 3.625 0.171875 4.015625 0.0625 C 3.984375 0.6875 3.984375 0.703125 3.984375 0.84375 C 3.984375 1.15625 3.984375 1.9375 4.8125 1.9375 C 5.984375 1.9375 6.46875 0.109375 6.46875 0 C 6.46875 -0.0625 6.40625 -0.09375 6.359375 -0.09375 C 6.28125 -0.09375 6.265625 -0.046875 6.234375 0.015625 C 6 0.71875 5.421875 0.96875 5.078125 0.96875 C 4.609375 0.96875 4.46875 0.703125 4.359375 -0.0625 Z M 2.484375 -0.140625 C 1.703125 -0.453125 1.359375 -1.21875 1.359375 -2.125 C 1.359375 -2.8125 1.625 -4.234375 2.375 -5.296875 C 3.109375 -6.3125 4.046875 -6.78125 4.78125 -6.78125 C 5.765625 -6.78125 6.5 -6 6.5 -4.671875 C 6.5 -3.671875 5.984375 -1.328125 4.3125 -0.40625 C 4.265625 -0.75 4.171875 -1.46875 3.4375 -1.46875 C 2.90625 -1.46875 2.421875 -0.984375 2.421875 -0.453125 C 2.421875 -0.265625 2.484375 -0.15625 2.484375 -0.140625 Z M 3.09375 -0.03125 C 2.953125 -0.03125 2.640625 -0.03125 2.640625 -0.453125 C 2.640625 -0.859375 3.015625 -1.25 3.4375 -1.25 C 3.859375 -1.25 4.046875 -1.015625 4.046875 -0.40625 C 4.046875 -0.265625 4.03125 -0.25 3.9375 -0.203125 C 3.671875 -0.09375 3.375 -0.03125 3.09375 -0.03125 Z M 3.09375 -0.03125 \" style=\"stroke:none;\"/>\n",
       "</symbol>\n",
       "<symbol id=\"glyph0-5\" overflow=\"visible\">\n",
       "<path d=\"M 3.734375 -6.125 C 3.796875 -6.359375 3.828125 -6.453125 4.015625 -6.484375 C 4.109375 -6.5 4.421875 -6.5 4.625 -6.5 C 5.328125 -6.5 6.4375 -6.5 6.4375 -5.515625 C 6.4375 -5.171875 6.28125 -4.484375 5.890625 -4.09375 C 5.625 -3.84375 5.109375 -3.515625 4.203125 -3.515625 L 3.09375 -3.515625 Z M 5.171875 -3.390625 C 6.1875 -3.609375 7.359375 -4.3125 7.359375 -5.3125 C 7.359375 -6.171875 6.46875 -6.8125 5.15625 -6.8125 L 2.328125 -6.8125 C 2.125 -6.8125 2.03125 -6.8125 2.03125 -6.609375 C 2.03125 -6.5 2.125 -6.5 2.3125 -6.5 C 2.328125 -6.5 2.515625 -6.5 2.6875 -6.484375 C 2.875 -6.453125 2.953125 -6.453125 2.953125 -6.3125 C 2.953125 -6.28125 2.953125 -6.25 2.921875 -6.125 L 1.578125 -0.78125 C 1.484375 -0.390625 1.46875 -0.3125 0.671875 -0.3125 C 0.5 -0.3125 0.40625 -0.3125 0.40625 -0.109375 C 0.40625 0 0.53125 0 0.546875 0 C 0.828125 0 1.53125 -0.03125 1.796875 -0.03125 C 2.078125 -0.03125 2.796875 0 3.078125 0 C 3.15625 0 3.265625 0 3.265625 -0.203125 C 3.265625 -0.3125 3.1875 -0.3125 2.984375 -0.3125 C 2.625 -0.3125 2.34375 -0.3125 2.34375 -0.484375 C 2.34375 -0.546875 2.359375 -0.59375 2.375 -0.65625 L 3.03125 -3.296875 L 4.21875 -3.296875 C 5.125 -3.296875 5.296875 -2.734375 5.296875 -2.390625 C 5.296875 -2.25 5.21875 -1.9375 5.15625 -1.703125 C 5.09375 -1.421875 5 -1.0625 5 -0.859375 C 5 0.21875 6.203125 0.21875 6.328125 0.21875 C 7.171875 0.21875 7.53125 -0.78125 7.53125 -0.921875 C 7.53125 -1.046875 7.421875 -1.046875 7.40625 -1.046875 C 7.3125 -1.046875 7.296875 -0.984375 7.28125 -0.90625 C 7.03125 -0.171875 6.59375 0 6.375 0 C 6.046875 0 5.96875 -0.21875 5.96875 -0.609375 C 5.96875 -0.921875 6.03125 -1.421875 6.078125 -1.75 C 6.09375 -1.890625 6.109375 -2.078125 6.109375 -2.21875 C 6.109375 -2.984375 5.4375 -3.296875 5.171875 -3.390625 Z M 5.171875 -3.390625 \" style=\"stroke:none;\"/>\n",
       "</symbol>\n",
       "<symbol id=\"glyph1-0\" overflow=\"visible\">\n",
       "<path d=\"\" style=\"stroke:none;\"/>\n",
       "</symbol>\n",
       "<symbol id=\"glyph1-1\" overflow=\"visible\">\n",
       "<path d=\"M 6.84375 -3.265625 C 7 -3.265625 7.1875 -3.265625 7.1875 -3.453125 C 7.1875 -3.65625 7 -3.65625 6.859375 -3.65625 L 0.890625 -3.65625 C 0.75 -3.65625 0.5625 -3.65625 0.5625 -3.453125 C 0.5625 -3.265625 0.75 -3.265625 0.890625 -3.265625 Z M 6.859375 -1.328125 C 7 -1.328125 7.1875 -1.328125 7.1875 -1.53125 C 7.1875 -1.71875 7 -1.71875 6.84375 -1.71875 L 0.890625 -1.71875 C 0.75 -1.71875 0.5625 -1.71875 0.5625 -1.53125 C 0.5625 -1.328125 0.75 -1.328125 0.890625 -1.328125 Z M 6.859375 -1.328125 \" style=\"stroke:none;\"/>\n",
       "</symbol>\n",
       "<symbol id=\"glyph2-0\" overflow=\"visible\">\n",
       "<path d=\"\" style=\"stroke:none;\"/>\n",
       "</symbol>\n",
       "<symbol id=\"glyph2-1\" overflow=\"visible\">\n",
       "<path d=\"M 2.328125 -4.4375 C 2.328125 -4.625 2.328125 -4.625 2.125 -4.625 C 1.671875 -4.1875 1.046875 -4.1875 0.765625 -4.1875 L 0.765625 -3.9375 C 0.921875 -3.9375 1.390625 -3.9375 1.765625 -4.125 L 1.765625 -0.578125 C 1.765625 -0.34375 1.765625 -0.25 1.078125 -0.25 L 0.8125 -0.25 L 0.8125 0 C 0.9375 0 1.796875 -0.03125 2.046875 -0.03125 C 2.265625 -0.03125 3.140625 0 3.296875 0 L 3.296875 -0.25 L 3.03125 -0.25 C 2.328125 -0.25 2.328125 -0.34375 2.328125 -0.578125 Z M 2.328125 -4.4375 \" style=\"stroke:none;\"/>\n",
       "</symbol>\n",
       "</g>\n",
       "<clipPath id=\"clip1\">\n",
       "  <path d=\"M 24 10 L 54 10 L 54 96.367188 L 24 96.367188 Z M 24 10 \"/>\n",
       "</clipPath>\n",
       "<clipPath id=\"clip2\">\n",
       "  <path d=\"M 109 10 L 196 10 L 196 96.367188 L 109 96.367188 Z M 109 10 \"/>\n",
       "</clipPath>\n",
       "<clipPath id=\"clip3\">\n",
       "  <path d=\"M 208 10 L 238 10 L 238 96.367188 L 208 96.367188 Z M 208 10 \"/>\n",
       "</clipPath>\n",
       "<clipPath id=\"clip4\">\n",
       "  <path d=\"M 138 10 L 139 10 L 139 96.367188 L 138 96.367188 Z M 138 10 \"/>\n",
       "</clipPath>\n",
       "</defs>\n",
       "<g id=\"surface1\">\n",
       "<g clip-path=\"url(#clip1)\" clip-rule=\"nonzero\">\n",
       "<path d=\"M 0.000125 0.00103125 L 28.347781 0.00103125 L 28.347781 85.040094 L 0.000125 85.040094 L 0.000125 0.00103125 \" style=\"fill:none;stroke-width:0.3985;stroke-linecap:butt;stroke-linejoin:miter;stroke:rgb(0%,0%,0%);stroke-opacity:1;stroke-miterlimit:10;\" transform=\"matrix(1,0,0,-1,24.828,96.169)\"/>\n",
       "</g>\n",
       "<g style=\"fill:rgb(0%,0%,0%);fill-opacity:1;\">\n",
       "  <use x=\"56.695\" xlink:href=\"#glyph0-1\" y=\"55.794\"/>\n",
       "</g>\n",
       "<g style=\"fill:rgb(0%,0%,0%);fill-opacity:1;\">\n",
       "  <use x=\"36.012\" xlink:href=\"#glyph0-2\" y=\"7.61\"/>\n",
       "</g>\n",
       "<g style=\"fill:rgb(0%,0%,0%);fill-opacity:1;\">\n",
       "  <use x=\"3.321\" xlink:href=\"#glyph0-3\" y=\"57.053\"/>\n",
       "</g>\n",
       "<g style=\"fill:rgb(0%,0%,0%);fill-opacity:1;\">\n",
       "  <use x=\"13.56\" xlink:href=\"#glyph1-1\" y=\"57.053\"/>\n",
       "</g>\n",
       "<g clip-path=\"url(#clip2)\" clip-rule=\"nonzero\">\n",
       "<path d=\"M 85.039187 0.00103125 L 170.082156 0.00103125 L 170.082156 85.040094 L 85.039187 85.040094 L 85.039187 0.00103125 \" style=\"fill:none;stroke-width:0.3985;stroke-linecap:butt;stroke-linejoin:miter;stroke:rgb(0%,0%,0%);stroke-opacity:1;stroke-miterlimit:10;\" transform=\"matrix(1,0,0,-1,24.828,96.169)\"/>\n",
       "</g>\n",
       "<g style=\"fill:rgb(0%,0%,0%);fill-opacity:1;\">\n",
       "  <use x=\"148.014\" xlink:href=\"#glyph0-1\" y=\"7.61\"/>\n",
       "</g>\n",
       "<g style=\"fill:rgb(0%,0%,0%);fill-opacity:1;\">\n",
       "  <use x=\"97.601\" xlink:href=\"#glyph0-1\" y=\"30.283\"/>\n",
       "</g>\n",
       "<g style=\"fill:rgb(0%,0%,0%);fill-opacity:1;\">\n",
       "  <use x=\"80.314\" xlink:href=\"#glyph0-4\" y=\"56.084\"/>\n",
       "  <use x=\"88.190432\" xlink:href=\"#glyph0-5\" y=\"56.084\"/>\n",
       "</g>\n",
       "<g style=\"fill:rgb(0%,0%,0%);fill-opacity:1;\">\n",
       "  <use x=\"98.599\" xlink:href=\"#glyph1-1\" y=\"56.084\"/>\n",
       "</g>\n",
       "<g clip-path=\"url(#clip3)\" clip-rule=\"nonzero\">\n",
       "<path d=\"M 184.254031 0.00103125 L 212.601687 0.00103125 L 212.601687 85.040094 L 184.254031 85.040094 L 184.254031 0.00103125 \" style=\"fill:none;stroke-width:0.3985;stroke-linecap:butt;stroke-linejoin:miter;stroke:rgb(0%,0%,0%);stroke-opacity:1;stroke-miterlimit:10;\" transform=\"matrix(1,0,0,-1,24.828,96.169)\"/>\n",
       "</g>\n",
       "<g style=\"fill:rgb(0%,0%,0%);fill-opacity:1;\">\n",
       "  <use x=\"240.946\" xlink:href=\"#glyph0-1\" y=\"55.794\"/>\n",
       "</g>\n",
       "<g style=\"fill:rgb(0%,0%,0%);fill-opacity:1;\">\n",
       "  <use x=\"220.263\" xlink:href=\"#glyph0-2\" y=\"7.61\"/>\n",
       "</g>\n",
       "<path d=\"M 184.254031 56.692437 L 212.601687 56.692437 \" style=\"fill:none;stroke-width:0.3985;stroke-linecap:butt;stroke-linejoin:miter;stroke:rgb(0%,0%,0%);stroke-opacity:1;stroke-dasharray:2.98883,2.98883;stroke-miterlimit:10;\" transform=\"matrix(1,0,0,-1,24.828,96.169)\"/>\n",
       "<g clip-path=\"url(#clip4)\" clip-rule=\"nonzero\">\n",
       "<path d=\"M 113.386844 0.00103125 L 113.386844 85.040094 \" style=\"fill:none;stroke-width:0.3985;stroke-linecap:butt;stroke-linejoin:miter;stroke:rgb(0%,0%,0%);stroke-opacity:1;stroke-dasharray:2.98883,2.98883;stroke-miterlimit:10;\" transform=\"matrix(1,0,0,-1,24.828,96.169)\"/>\n",
       "</g>\n",
       "<g style=\"fill:rgb(0%,0%,0%);fill-opacity:1;\">\n",
       "  <use x=\"117.868\" xlink:href=\"#glyph0-4\" y=\"56.084\"/>\n",
       "</g>\n",
       "<g style=\"fill:rgb(0%,0%,0%);fill-opacity:1;\">\n",
       "  <use x=\"125.744\" xlink:href=\"#glyph2-1\" y=\"57.579\"/>\n",
       "</g>\n",
       "<g style=\"fill:rgb(0%,0%,0%);fill-opacity:1;\">\n",
       "  <use x=\"217.236\" xlink:href=\"#glyph0-5\" y=\"27.959\"/>\n",
       "</g>\n",
       "<g style=\"fill:rgb(0%,0%,0%);fill-opacity:1;\">\n",
       "  <use x=\"224.801\" xlink:href=\"#glyph2-1\" y=\"29.454\"/>\n",
       "</g>\n",
       "</g>\n",
       "</svg>"
      ]
     },
     "metadata": {
      "isolated": "true"
     },
     "output_type": "display_data"
    }
   ],
   "source": [
    "%%tikz -f svg\n",
    "\\draw (0,0)  -| (1,3) \n",
    "    node[pos=0.75,right] {$m$}\n",
    "    -| (0,0)\n",
    "    node[pos=0.25,above] {$n$}\n",
    "    node[pos=0.75,left] {$A=$};\n",
    "\\draw (3,0)  -| (6,3) \n",
    "    -| (3,0)\n",
    "    node[pos=0.25,above] {$m$}\n",
    "    node[pos=0.6,left] {$m$}\n",
    "    node[pos=0.75,left] {$QR=$};\n",
    "\\draw (6.5,0)  -| (7.5,3) \n",
    "    node[pos=0.75,right] {$m$}\n",
    "    -| (6.5,0)\n",
    "    node[pos=0.25,above] {$n$};\n",
    "\\draw[dashed] (6.5,2) -- (7.5,2);\n",
    "\\draw[dashed] (4,0) -- (4,3);\n",
    "\\node at (3.5,1.5) {$Q_1$};\n",
    "\\node at (7,2.5) {$R_1$};"
   ]
  },
  {
   "cell_type": "markdown",
   "metadata": {},
   "source": [
    "## SVD decomposition\n",
    "\n",
    "$$A=U\\Sigma V^T$$\n",
    "\n",
    "- $U$ is orthogonal\n",
    "- $\\Sigma$ is diagonal\n",
    "- $V$ is orthogonal\n",
    "\n",
    "For more details, please visit [SVD on MLPR notes](../MLPR/index.html#Singular-Value-Decomposition-(SVD)). "
   ]
  },
  {
   "cell_type": "markdown",
   "metadata": {},
   "source": [
    "## Condition number\n",
    "\n",
    "$$\\mathrm{Cond}(A)=\\|A\\| \\|A^{−1}\\|$$"
   ]
  },
  {
   "cell_type": "markdown",
   "metadata": {},
   "source": [
    "## Condition of RHS perturbation of $Ax=b$\n",
    "\n",
    "$$\\frac{\\| \\delta x\\|}{\\|x\\|} \\leq \\mathrm{Cond}(A) \\frac{\\delta b}{b}$$\n",
    "\n",
    "- Proved with [properties of matrix norm](#Matrix-norm)"
   ]
  },
  {
   "cell_type": "markdown",
   "metadata": {},
   "source": [
    "## Pseudo-inverse of over-determined matrix $A$\n",
    "\t\n",
    "$$A^+=(A^T A)^{−1} A^T$$\n",
    "\n",
    "- Check assignment 3.3"
   ]
  },
  {
   "cell_type": "markdown",
   "metadata": {},
   "source": [
    "## Cheap iterative inverse\n",
    "\n",
    "1. $B\\approx A^{−1}$, $Ax=b$\n",
    "1. $r^{(k)} = b − Ax^{(x)}$\n",
    "1. $\\delta x^{(k)}=Br^{(k)}$\n",
    "1. $x^{(k+1)}=x^{(k)}+\\delta x^{(k)}$\n",
    "\n",
    "\n",
    "- Error: $e^{(k+1)}=x^{(k+1)}−x=x^{(k)}+\\delta x^{(k)}−x=(I−BA) e^{(k)}=(I−BA)^k e(1)$\n",
    "- $(I−BA)^k \\to 0 \\Leftrightarrow \\rho(I−BA)<1$"
   ]
  },
  {
   "cell_type": "markdown",
   "metadata": {},
   "source": [
    "## Jacobi\n",
    "\n",
    "$$A=L+D+U \\quad Dx=b−(L+U)x$$\n",
    "\n",
    "- Cheap inverse $B=D^{−1}$\n",
    "- $\\rho(I−D^{−1} A)<1$ for strickly diagonally dominat matrices $\\displaystyle |a_{ii}| > \\sum_{j=1\\\\j\\neq i}^n |a_{ij}|, \\forall i$"
   ]
  },
  {
   "cell_type": "markdown",
   "metadata": {},
   "source": [
    "## PageRank\n",
    "\n",
    "1. Form vector $l_1$, $l_2$, $\\ldots$ (連去邊, 邊個就係1; 有連人, 自己係1)\n",
    "1. Normalise, 併成matrix $M$\n",
    "1. Bad rank: eigenvector of $M$\n",
    "1. Good PageRank: $\\tilde M=dM+(1−d)Z$, $\\displaystyle Z=\\frac{1}{n} ee^T$\n",
    "\n",
    "\n",
    "- $p^{(k)}=\\tilde M p^{(k−1)}$, 計嘅時候拆括弧計, efficient"
   ]
  },
  {
   "cell_type": "markdown",
   "metadata": {},
   "source": [
    "## Sparse matrices\n",
    "\n",
    "- A sparse matrix is any matrix with enough zeros that it pays to take advantage of them\n",
    "- GE for 箭咀型matrix $A$"
   ]
  },
  {
   "cell_type": "markdown",
   "metadata": {},
   "source": [
    "## Condition of eigenvalues\n",
    "\n",
    "- Diagonalise: $X^{−1} AX=\\Lambda$\n",
    "- Perturb: $A(\\epsilon)=A+\\epsilon B$, $\\|B\\|=1$\n",
    "- $|\\lambda(\\epsilon)−\\lambda_i |\\leq\\in\\mathrm{Cond}(X)$"
   ]
  },
  {
   "cell_type": "markdown",
   "metadata": {},
   "source": [
    "## Power method\n",
    "\n",
    "$$z=A x^{(k−1)} \\quad x^{(k)}=\\frac{z}{\\|z\\|}$$\n",
    "\n",
    "- 搵最大eigenvalue對應嘅eigenvector"
   ]
  },
  {
   "cell_type": "markdown",
   "metadata": {},
   "source": [
    "## Rayleigh quotient\n",
    "\n",
    "$$R_q (v)=\\frac{v^T Av}{v^T v}$$\n",
    "\n",
    "- v即係上邊每一個x, 計完之後即係對應嘅eigenvalue"
   ]
  },
  {
   "cell_type": "markdown",
   "metadata": {},
   "source": [
    "## Inverse power method\n",
    "\n",
    "$$z=A^{−1} x^{(k−1)} \\quad x^{(k)}=\\frac{z}{\\|z\\|}$$ \n",
    "\n",
    "- 搵最細嘅eigenvector"
   ]
  },
  {
   "cell_type": "markdown",
   "metadata": {},
   "source": [
    "## Inverse power method with shift\n",
    "\n",
    "$$A−\\sigma I \\quad \\sigma \\approx \\lambda_i$$\n",
    "\n",
    "- find $\\lambda_i$"
   ]
  },
  {
   "cell_type": "markdown",
   "metadata": {},
   "source": [
    "**Authors:** s1680642\n",
    "\n",
    "**Licensing:** <a rel=\"license\" href=\"http://creativecommons.org/licenses/by-nc-sa/4.0/\"><img alt=\"Creative Commons Licence\" style=\"border-width:0\" src=\"https://i.creativecommons.org/l/by-nc-sa/4.0/88x31.png\" /></a><br />This work is licensed under a <a rel=\"license\" href=\"http://creativecommons.org/licenses/by-nc-sa/4.0/\">Creative Commons Attribution-NonCommercial-ShareAlike 4.0 International License</a>."
   ]
  }
 ],
 "metadata": {
  "kernelspec": {
   "display_name": "Python 3",
   "language": "python",
   "name": "python3"
  },
  "language_info": {
   "codemirror_mode": {
    "name": "ipython",
    "version": 3
   },
   "file_extension": ".py",
   "mimetype": "text/x-python",
   "name": "python",
   "nbconvert_exporter": "python",
   "pygments_lexer": "ipython3",
   "version": "3.7.3"
  },
  "toc": {
   "base_numbering": 1,
   "nav_menu": {},
   "number_sections": true,
   "sideBar": true,
   "skip_h1_title": true,
   "title_cell": "Table of Contents",
   "title_sidebar": "Contents",
   "toc_cell": false,
   "toc_position": {},
   "toc_section_display": true,
   "toc_window_display": false
  }
 },
 "nbformat": 4,
 "nbformat_minor": 2
}
