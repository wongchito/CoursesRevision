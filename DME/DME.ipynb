{
 "cells": [
  {
   "cell_type": "markdown",
   "metadata": {},
   "source": [
    "# Data Mining and Exploration (INFR 11007)"
   ]
  },
  {
   "cell_type": "markdown",
   "metadata": {},
   "source": [
    "## First Steps in EDA"
   ]
  },
  {
   "cell_type": "markdown",
   "metadata": {},
   "source": [
    "### Numerical data description"
   ]
  },
  {
   "cell_type": "code",
   "execution_count": 1,
   "metadata": {
    "hide_input": true
   },
   "outputs": [],
   "source": [
    "import numpy as np\n",
    "import pandas as pd"
   ]
  },
  {
   "cell_type": "code",
   "execution_count": 2,
   "metadata": {
    "hide_input": true
   },
   "outputs": [
    {
     "name": "stdout",
     "output_type": "stream",
     "text": [
      "Set 1: [0 1 1 1 2 3 4 4 5 9]\n",
      "Set 2: [   0    1    1    1    2    3    4    4    5 9000]\n"
     ]
    }
   ],
   "source": [
    "set1 = np.array([0, 1, 1, 1, 2, 3, 4, 4, 5, 9])\n",
    "set2 = np.array([0, 1, 1, 1, 2, 3, 4, 4, 5, 9000])\n",
    "print('Set 1: {}'.format(set1))\n",
    "print('Set 2: {}'.format(set2))"
   ]
  },
  {
   "cell_type": "markdown",
   "metadata": {},
   "source": [
    "#### Location\n",
    "\n",
    "**Not-robust measures:**\n",
    "- Sample mean: $\\displaystyle \\bar x = \\frac{1}{n} \\sum_{i=1}^n x_i$\n",
    "    - Estimator of the mean of r.v. $X$\n",
    "    \n",
    "**Robust measures:**\n",
    "- Median: $\\displaystyle \\mathrm{median}(x) = \\begin{cases}\n",
    "    x_{(\\frac{n+1}{2})} & \\text{if } n \\text{ is odd} \\\\\n",
    "    \\frac{1}{2} \\left( x_{(\\frac{n}{2})} + x_{(\\frac{n}{2}+1)} \\right) & \\text{if } n \\text{ is even}\n",
    "\\end{cases}$\n",
    "- Mode: the value that occurs most frequently\n",
    "- Quantile: $q_\\alpha \\approx x_{(\\lceil n\\alpha \\rceil)}$\n",
    "    - $Q_1 = q_{0.25}$, $Q_2 = q_{0.5}$, $Q_3 = q_{0.75}$"
   ]
  },
  {
   "cell_type": "code",
   "execution_count": 3,
   "metadata": {
    "hide_input": true
   },
   "outputs": [
    {
     "data": {
      "text/html": [
       "<div>\n",
       "<style scoped>\n",
       "    .dataframe tbody tr th:only-of-type {\n",
       "        vertical-align: middle;\n",
       "    }\n",
       "\n",
       "    .dataframe tbody tr th {\n",
       "        vertical-align: top;\n",
       "    }\n",
       "\n",
       "    .dataframe thead th {\n",
       "        text-align: right;\n",
       "    }\n",
       "</style>\n",
       "<table border=\"1\" class=\"dataframe\">\n",
       "  <thead>\n",
       "    <tr style=\"text-align: right;\">\n",
       "      <th></th>\n",
       "      <th>mean</th>\n",
       "      <th>median</th>\n",
       "      <th>$Q_1$</th>\n",
       "      <th>$Q_2$</th>\n",
       "      <th>$Q_3$</th>\n",
       "    </tr>\n",
       "  </thead>\n",
       "  <tbody>\n",
       "    <tr>\n",
       "      <th>Set 1</th>\n",
       "      <td>3.0</td>\n",
       "      <td>2.5</td>\n",
       "      <td>1.0</td>\n",
       "      <td>2.5</td>\n",
       "      <td>4.0</td>\n",
       "    </tr>\n",
       "    <tr>\n",
       "      <th>Set 2</th>\n",
       "      <td>902.1</td>\n",
       "      <td>2.5</td>\n",
       "      <td>1.0</td>\n",
       "      <td>2.5</td>\n",
       "      <td>4.0</td>\n",
       "    </tr>\n",
       "  </tbody>\n",
       "</table>\n",
       "</div>"
      ],
      "text/plain": [
       "        mean  median  $Q_1$  $Q_2$  $Q_3$\n",
       "Set 1    3.0     2.5    1.0    2.5    4.0\n",
       "Set 2  902.1     2.5    1.0    2.5    4.0"
      ]
     },
     "execution_count": 3,
     "metadata": {},
     "output_type": "execute_result"
    }
   ],
   "source": [
    "d = {\n",
    "    'mean': [set1.mean(), set2.mean()], \n",
    "    'median': [np.median(set1), np.median(set2)], \n",
    "    '$Q_1$': [np.quantile(set1, 0.25), np.quantile(set2, 0.25)], \n",
    "    '$Q_2$': [np.quantile(set1, 0.5), np.quantile(set2, 0.5)], \n",
    "    '$Q_3$': [np.quantile(set1, 0.75), np.quantile(set2, 0.75)]\n",
    "}\n",
    "pd.DataFrame(data=d, index=['Set 1','Set 2'])"
   ]
  },
  {
   "cell_type": "markdown",
   "metadata": {},
   "source": [
    "#### Scale\n",
    "\n",
    "**Not-robust measures:**\n",
    "- Sample variance: $\\displaystyle \\mathrm{Var}(x) = \\frac{1}{n} \\sum_{i=1}^n (x_i - \\bar x)^2$\n",
    "    - Estimator of the variance of r.v. $X$\n",
    "- Sample standard deviation: $\\mathrm{std}(x) = \\sqrt{\\mathrm{Var}(x)}$\n",
    "\n",
    "**Robust measures:**\n",
    "- Median absolute deviation: $\\mathrm{MAD}(x) = \\mathrm{median}(|x_i - \\mathrm{median}(x)|)$\n",
    "- Interquantile range: $\\mathrm{IQR} = Q_3 - Q_1$"
   ]
  },
  {
   "cell_type": "code",
   "execution_count": 12,
   "metadata": {
    "hide_input": true
   },
   "outputs": [],
   "source": [
    "from scipy.stats import iqr\n",
    "\n",
    "def mad(x):\n",
    "    return np.median(np.abs(x - np.median(x)))"
   ]
  },
  {
   "cell_type": "code",
   "execution_count": 13,
   "metadata": {
    "hide_input": true
   },
   "outputs": [
    {
     "data": {
      "text/html": [
       "<div>\n",
       "<style scoped>\n",
       "    .dataframe tbody tr th:only-of-type {\n",
       "        vertical-align: middle;\n",
       "    }\n",
       "\n",
       "    .dataframe tbody tr th {\n",
       "        vertical-align: top;\n",
       "    }\n",
       "\n",
       "    .dataframe thead th {\n",
       "        text-align: right;\n",
       "    }\n",
       "</style>\n",
       "<table border=\"1\" class=\"dataframe\">\n",
       "  <thead>\n",
       "    <tr style=\"text-align: right;\">\n",
       "      <th></th>\n",
       "      <th>variance</th>\n",
       "      <th>std</th>\n",
       "      <th>MAD</th>\n",
       "      <th>IQR</th>\n",
       "    </tr>\n",
       "  </thead>\n",
       "  <tbody>\n",
       "    <tr>\n",
       "      <th>Set 1</th>\n",
       "      <td>6.40</td>\n",
       "      <td>2.529822</td>\n",
       "      <td>1.5</td>\n",
       "      <td>3.0</td>\n",
       "    </tr>\n",
       "    <tr>\n",
       "      <th>Set 2</th>\n",
       "      <td>7286222.89</td>\n",
       "      <td>2699.300445</td>\n",
       "      <td>1.5</td>\n",
       "      <td>3.0</td>\n",
       "    </tr>\n",
       "  </tbody>\n",
       "</table>\n",
       "</div>"
      ],
      "text/plain": [
       "         variance          std  MAD  IQR\n",
       "Set 1        6.40     2.529822  1.5  3.0\n",
       "Set 2  7286222.89  2699.300445  1.5  3.0"
      ]
     },
     "execution_count": 13,
     "metadata": {},
     "output_type": "execute_result"
    }
   ],
   "source": [
    "d = {\n",
    "    'variance': [set1.var(), set2.var()], \n",
    "    'std': [set1.std(), set2.std()], \n",
    "    'MAD': [mad(set1), mad(set2)], \n",
    "    'IQR': [iqr(set1), iqr(set2)]\n",
    "}\n",
    "pd.DataFrame(data=d, index=['Set 1','Set 2'])"
   ]
  },
  {
   "cell_type": "markdown",
   "metadata": {},
   "source": [
    "#### Shape\n",
    "\n",
    "**Not-robust measures:**\n",
    "- Sample skewness: $\\displaystyle \\mathrm{skew}(x) = \\frac{1}{n} \\sum_{i=1}^n \\left( \\frac{x_i - \\bar x}{\\mathrm{std}(x)} \\right)^3$\n",
    "    - Location and scale are not taken into account\n",
    "- Sample kurtosis: $\\displaystyle \\mathrm{kurt}(x) = \\frac{1}{n} \\sum_{i=1}^n \\left( \\frac{x_i - \\bar x}{\\mathrm{std}(x)} \\right)^4$\n",
    "\n",
    "**Robust measures:**\n",
    "- Galton’s measure of skewness: $\\displaystyle \\frac{(Q_3 - Q_2) - (Q_2 - Q_1)}{Q_3 - Q_1}$\n",
    "- Robust kurtosis: $\\displaystyle \\frac{(q_{7/8} - q_{5/8}) + (q_{3/8} - q_{1/8})}{Q_3 - Q_1}$"
   ]
  },
  {
   "cell_type": "code",
   "execution_count": 83,
   "metadata": {
    "hide_input": true
   },
   "outputs": [],
   "source": [
    "from scipy.stats import skew, kurtosis\n",
    "\n",
    "def Galton(x):\n",
    "    q1 = np.quantile(x, 0.25)\n",
    "    q2 = np.quantile(x, 0.5)\n",
    "    q3 = np.quantile(x, 0.75)\n",
    "    return ((q3-q2)-(q2-q1))/(q3-q1)\n",
    "\n",
    "def robust_kurt(x):\n",
    "    q1 = np.quantile(x, 1/8)\n",
    "    q2 = np.quantile(x, 1/4)\n",
    "    q3 = np.quantile(x, 3/8)\n",
    "    q5 = np.quantile(x, 5/8)\n",
    "    q6 = np.quantile(x, 3/4)\n",
    "    q7 = np.quantile(x, 7/8)\n",
    "    return ((q7-q5)+(q3-q1))/(q6-q2)"
   ]
  },
  {
   "cell_type": "code",
   "execution_count": 84,
   "metadata": {
    "hide_input": true
   },
   "outputs": [
    {
     "data": {
      "text/html": [
       "<div>\n",
       "<style scoped>\n",
       "    .dataframe tbody tr th:only-of-type {\n",
       "        vertical-align: middle;\n",
       "    }\n",
       "\n",
       "    .dataframe tbody tr th {\n",
       "        vertical-align: top;\n",
       "    }\n",
       "\n",
       "    .dataframe thead th {\n",
       "        text-align: right;\n",
       "    }\n",
       "</style>\n",
       "<table border=\"1\" class=\"dataframe\">\n",
       "  <thead>\n",
       "    <tr style=\"text-align: right;\">\n",
       "      <th></th>\n",
       "      <th>skewness</th>\n",
       "      <th>Galton</th>\n",
       "      <th>kurtosis</th>\n",
       "      <th>robustKurt</th>\n",
       "    </tr>\n",
       "  </thead>\n",
       "  <tbody>\n",
       "    <tr>\n",
       "      <th>Set 1</th>\n",
       "      <td>1.074680</td>\n",
       "      <td>0.0</td>\n",
       "      <td>0.525391</td>\n",
       "      <td>0.541667</td>\n",
       "    </tr>\n",
       "    <tr>\n",
       "      <th>Set 2</th>\n",
       "      <td>2.666665</td>\n",
       "      <td>0.0</td>\n",
       "      <td>5.111106</td>\n",
       "      <td>0.541667</td>\n",
       "    </tr>\n",
       "  </tbody>\n",
       "</table>\n",
       "</div>"
      ],
      "text/plain": [
       "       skewness  Galton  kurtosis  robustKurt\n",
       "Set 1  1.074680     0.0  0.525391    0.541667\n",
       "Set 2  2.666665     0.0  5.111106    0.541667"
      ]
     },
     "execution_count": 84,
     "metadata": {},
     "output_type": "execute_result"
    }
   ],
   "source": [
    "d = {\n",
    "    'skewness': [skew(set1), skew(set2)], \n",
    "    'Galton': [Galton(set1), Galton(set2)], \n",
    "    'kurtosis': [kurtosis(set1), kurtosis(set2)],\n",
    "    'robustKurt': [robust_kurt(set1), robust_kurt(set2)]\n",
    "}\n",
    "pd.DataFrame(data=d, index=['Set 1','Set 2'])"
   ]
  },
  {
   "cell_type": "markdown",
   "metadata": {},
   "source": [
    "#### Multivariate measures\n",
    "\n",
    "**Not-robust measures:**\n",
    "- Sample covariance: $\\displaystyle \\mathrm{cov}(x,y) = \\frac{1}{n} \\sum_{i=1}^n (x_i - \\bar x) (y_i - \\bar y)$\n",
    "    - Estimator of the covariance of r.v.s $X$ and $Y$\n",
    "- Pearson's correlation coefficient: $\\displaystyle \\rho(x, y) = \\frac{\\mathrm{cov}(x,y)}{\\mathrm{std}(x) \\mathrm{std}(y)}$\n",
    "    - $-1 \\leq \\rho \\leq 1$\n",
    "    - Aka linear correlation coefficient because linear relation is measured. \n",
    "    - Nonlinear: $\\displaystyle \\rho(g(x), g(y)) = \\frac{\\mathrm{cov}(g(x),g(y))}{\\mathrm{std}(g(x)) \\mathrm{std}(g(y))}$\n",
    "- Sample covariance matrix\n",
    "    - Positive semi-definite\n",
    "    - Total variance $\\displaystyle \\sum_{i=1}^d \\mathrm{Var}(x_i) = \\sum_{i=1}^d \\lambda_i$ (by eigenvalue decomopsition $\\mathrm{Cov}(\\mathbf x) = \\mathbf U \\boldsymbol\\Lambda \\mathbf U^\\top$)\n",
    "- Sample correlation matrix: $\\displaystyle \\rho(\\mathbf x) = \\mathrm{diag} \\left( \\frac{1}{\\mathrm{std}(\\mathbf x)} \\right) \\mathrm{Cov}(\\mathbf x) \\mathrm{diag} \\left( \\frac{1}{\\mathrm{std}(\\mathbf x)} \\right)$\n",
    "\n",
    "**Robust measures:**\n",
    "- Kendall's $\\tau$: $\\displaystyle \\tau(x,y) = \\frac{n_c(x,y) - n_d(x,y)}{n(n-1)/2}$\n",
    "    - $n_c(x,y)$ is the number of concordant pairs, i.e. $\\#\\left\\{(x_i, y_i) \\text{ and } (x_j, y_j), \\forall i \\neq j\\right\\}$ s.t. $\\displaystyle \\begin{cases}\n",
    "x_i > x_j \\\\ \n",
    "y_i > y_j\n",
    "\\end{cases} \\text{ or } \\begin{cases}\n",
    "x_i < x_j \\\\\n",
    "y_i < y_j\n",
    "\\end{cases}$\n",
    "    - $n_d(x,y)$ is the number of discordant pairs, i.e. $\\#\\left\\{(x_i, y_i) \\text{ and } (x_j, y_j), \\forall i \\neq j\\right\\}$ s.t. $\\displaystyle \\begin{cases}\n",
    "x_i > x_j \\\\ \n",
    "y_i < y_j\n",
    "\\end{cases} \\text{ or } \\begin{cases}\n",
    "x_i < x_j \\\\\n",
    "y_i > y_j\n",
    "\\end{cases}$\n",
    "    - If $\\begin{cases}\n",
    "x_i = x_j \\\\\n",
    "y_i = y_j\n",
    "\\end{cases}$, the pair is neither concordant nor discordant"
   ]
  },
  {
   "cell_type": "markdown",
   "metadata": {},
   "source": [
    "### Data visualisation"
   ]
  },
  {
   "cell_type": "markdown",
   "metadata": {},
   "source": [
    "#### Bar plot\n",
    "\n",
    "- Number of occurences of an attribute\n",
    "- More useful to show relevant frequencies "
   ]
  },
  {
   "cell_type": "markdown",
   "metadata": {},
   "source": [
    "#### Box plot\n",
    "\n",
    "- Based on robust measures (quantiles)\n",
    "\n",
    "<embed src=\"boxplot.pdf\" type=\"application/pdf\" width=\"500px\" height=\"520px\"/>"
   ]
  },
  {
   "cell_type": "markdown",
   "metadata": {},
   "source": [
    "#### Scatter plot"
   ]
  },
  {
   "cell_type": "markdown",
   "metadata": {},
   "source": [
    "#### Histogram\n",
    "\n",
    "$$B_i = [L+(i-1)h, L+ih) \\quad i = 1, \\ldots, k$$\n",
    "\n",
    "- To visualise whold dataset, $L \\leq \\min (x_1, \\ldots, x_n)$ and $L+kh \\geq \\max (x_1, \\ldots, x_n)$\n",
    "- Different starting values lead to differently looking histograms"
   ]
  },
  {
   "cell_type": "markdown",
   "metadata": {},
   "source": [
    "#### Kernel density plot\n",
    "\n",
    "$$\\hat p(x) = \\frac{1}{n} \\sum_{i=1}^n K_h(x - x_i)$$\n",
    "\n",
    "- Kernel: $\\displaystyle \\int K_h(x) \\mathrm dx = 1$\n",
    "- Bandwidth $h$: $\\displaystyle K_h(x) = \\frac{1}{h}K(\\frac{1}{h})$\n",
    "- Gaussian kernel: $\\displaystyle K_h (\\xi) = \\frac{1}{\\sqrt{2 \\pi h^2}} \\exp \\left( -\\frac{\\xi^2}{2h^2} \\right)$"
   ]
  },
  {
   "cell_type": "markdown",
   "metadata": {},
   "source": [
    "#### Violin plot\n",
    "\n",
    "- Combination of [box plot](#Box-plot) (robust) and [kernel density plot](#Kernel-density-plot) (non-robust but informative)"
   ]
  },
  {
   "cell_type": "code",
   "execution_count": 6,
   "metadata": {
    "hide_input": true
   },
   "outputs": [
    {
     "data": {
      "image/png": "[encoded data removed]",
      "text/plain": [
       "<Figure size 432x288 with 1 Axes>"
      ]
     },
     "metadata": {},
     "output_type": "display_data"
    }
   ],
   "source": [
    "import seaborn as sns\n",
    "sns.set()\n",
    "iris = sns.load_dataset(\"iris\")\n",
    "ax = sns.violinplot(x=\"species\", y=\"sepal_length\", data=iris)"
   ]
  },
  {
   "cell_type": "markdown",
   "metadata": {},
   "source": [
    "### Data pre-processing"
   ]
  },
  {
   "cell_type": "markdown",
   "metadata": {},
   "source": [
    "#### Standardisation\n",
    "\n",
    "**Centring matrix**\n",
    "\n",
    "$$\\tilde {\\mathbf X} = \\mathbf{X C}_n$$\n",
    "- $\\mathbf C_n = \\mathbf I_n - \\frac{1}{n} \\boldsymbol 1_n \\boldsymbol 1_n^\\top$\n",
    "- $\\mathbf C_n \\mathbf C_n = \\mathbf C_n$\n",
    "- Multiply from the left instead removes the sample mean of each column\n",
    "\n",
    "**Scaling to unit variance**\n",
    "\n",
    "$$\\mathbf z_i = \\mathrm{diag} \\left( \\frac{1}{\\mathrm{std}(\\mathbf x)} \\right) \\tilde{\\mathbf x}_i$$"
   ]
  },
  {
   "cell_type": "markdown",
   "metadata": {},
   "source": [
    "#### Outlier detection and removal\n",
    "\n",
    "- Turkey's fences $$[Q_1 - k(Q_3-Q_1), Q_3 + k(Q_3-Q_1)] = [Q_1 - k \\mathrm{IQR}(x), Q_3 + k \\mathrm{IQR}(x)]$$\n",
    "    - $k \\geq 0$ (most commonly $k=1.5$)\n",
    "    - Used in [box plots](#Box-plot)"
   ]
  },
  {
   "cell_type": "markdown",
   "metadata": {},
   "source": [
    "## Principal Component Analysis"
   ]
  },
  {
   "cell_type": "markdown",
   "metadata": {},
   "source": [
    "### PCA by variance maximisation"
   ]
  },
  {
   "cell_type": "markdown",
   "metadata": {},
   "source": [
    "#### Sequtial variance maximisation\n",
    "\n",
    "\\begin{align*}\n",
    "\\text{First PC: } & \\begin{cases}\n",
    "\\underset{\\mathbf w_1}{\\text{maximise}} & \\mathrm{Var}(z_1) = \\mathrm{Var}(\\mathbf w_1^\\top \\mathbf x) = \\mathbf w_1^\\top \\boldsymbol\\Sigma \\mathbf w_1 \\\\\n",
    "\\text{subject to} & \\| \\mathbf w_1 \\| = 1\n",
    "\\end{cases} \\\\\n",
    "\\text{Subsequent PCs: } & \\begin{cases}\n",
    "\\underset{\\mathbf w_m}{\\text{maximise}} & \\mathbf w_m^\\top \\boldsymbol\\Sigma \\mathbf w_m \\\\\n",
    "\\text{subject to} & \\| \\mathbf w_m \\| = 1 \\\\\n",
    "& \\mathbf w_m^\\top \\mathbf w_1 = 0 \\quad i = 1, \\ldots, m-1\n",
    "\\end{cases}\n",
    "\\end{align*}\n",
    "\n",
    "1. Let $\\mathbf w_1 = \\mathbf{Ua}$, then $\\displaystyle \\mathbf w_1^\\top \\boldsymbol\\Sigma \\mathbf w_1 = \\sum_{i=1}^d a_i^2 \\lambda_i$ and $\\displaystyle \\| \\mathbf w_1 \\| = \\sum_{i=1}^d a_i^2 = 1$\n",
    "1. $\\mathbf a = (1, 0, \\ldots, 0)^\\top$ is the solution of the optimisation problem if $\\lambda_1 > \\lambda_i$\n",
    "1. $\\mathbf w_1 = \\mathbf u_1 = \\mathbf{Ue}_1$ is the first PC direction, with variance $\\lambda_1$\n",
    "1. For subsequent calculations, constraints $a_i=0 \\ (i=1,\\ldots,m-1)$ exist\n",
    "\n",
    "\n",
    "- PCs (scores) uncorrelated: \n",
    "\\begin{align*}\n",
    "\\mathbb E [z_i z_j] &= \\mathbb E [\\mathbf w_i^\\top \\mathbf{xx}^\\top \\mathbf w_j] \\\\\n",
    "&= \\mathbf w_i^\\top \\boldsymbol\\Sigma \\mathbf w_j \\\\\n",
    "&= \\mathbf e_i^\\top \\mathbf U^\\top \\mathbf U \\boldsymbol\\Lambda \\mathbf U^\\top \\mathbf{Ue}_j \\\\\n",
    "&= 0\n",
    "\\end{align*}\n",
    "- Fraction of variance explained: $\\displaystyle \\frac{\\sum_{i=1}^k \\lambda_i}{\\sum_{i=1}^d \\lambda_i}$"
   ]
  },
  {
   "cell_type": "markdown",
   "metadata": {},
   "source": [
    "#### Simultaneous variance maximisation\n",
    "\n",
    "\\begin{align*}\n",
    "\\underset{\\mathbf w_1, \\ldots, \\mathbf w_k}{\\text{maximise}} &\\quad \\sum_{i=1}^k \\mathbf w_i^\\top \\boldsymbol\\Sigma \\mathbf w_i \\\\\n",
    "\\text{subject to} &\\quad \\| \\mathbf w_i \\| = 1 &\\quad i = 1, \\ldots, k \\\\\n",
    "&\\quad \\mathbf w_i^\\top \\mathbf w_j = 0 &\\quad i \\neq j\n",
    "\\end{align*}\n",
    "\n",
    "- Subtle techinical point: not using greedy algorithms as in [sequential approach](#PCA-by-variance-maximisation), which are not guaranteed to yeild optimal solutions\n",
    "- However, same results as [sequential approach](#PCA-by-variance-maximisation)"
   ]
  },
  {
   "cell_type": "markdown",
   "metadata": {},
   "source": [
    "### PCA by minimisation of approximation error\n",
    "\n",
    "Approximation error: $\\displaystyle \\mathbb E \\| \\mathbf x - \\mathbf{Px} \\|^2 = \\mathbb E \\| \\mathbf x - \\mathbf W_k \\mathbf W_k^\\top \\mathbf x \\|^2 = \\mathbb E \\| \\mathbf x - \\sum_{i=1}^k \\mathbf w_k \\mathbf w_k^\\top \\mathbf x \\|^2$\n",
    "- $\\underset{d\\times k}{\\mathbf W_k} = (\\mathbf w_1, \\ldots, \\mathbf w_k)$, where $\\mathbf w_i$ are orthogonal vectors spanning a $k$-dim subspace of $\\mathbb R^d$\n",
    "\n",
    "\\begin{align*}\n",
    "\\underset{\\mathbf w_1, \\ldots, \\mathbf w_k}{\\text{minimise}} &\\quad \\mathbb E \\| \\mathbf x - \\sum_{i=1}^k \\mathbf w_k \\mathbf w_k^\\top \\mathbf x \\|^2 \\\\\n",
    "\\text{subject to} &\\quad \\| \\mathbf w_i \\| = 1 &\\quad i = 1, \\ldots, k \\\\\n",
    "&\\quad \\mathbf w_i^\\top \\mathbf w_j = 0 &\\quad i \\neq j\n",
    "\\end{align*}\n",
    "\n",
    "- Equivalent to [simultaneous variance maximisation](#Simultaneous-variance-maximisation)\n",
    "- Optimal $\\mathbf w_i$ are the first $k$ eigenvectors $\\mathbf u_i$ of $\\boldsymbol\\Sigma$\n",
    "- $\\displaystyle \\mathbb E \\| \\mathbf x - \\sum_{i=1}^k \\mathbf w_k \\mathbf w_k^\\top \\mathbf x \\|^2 = \\sum_{i=k+1}^d \\lambda_i$"
   ]
  },
  {
   "cell_type": "markdown",
   "metadata": {},
   "source": [
    "### PCA by low rank matrix approximation"
   ]
  },
  {
   "cell_type": "markdown",
   "metadata": {},
   "source": [
    "#### Approximating the data matrix\n",
    "\n",
    "\\begin{align*}\n",
    "\\underset{\\mathbf M}{\\text{minimise}} &\\quad \\| \\mathbf X - \\mathbf M \\|_F^2 = \\sum_{ij} \\left( (\\mathbf X)_{ij} - (\\mathbf M)_{ij} \\right)^2 \\\\\n",
    "\\text{subject to} &\\quad \\mathrm{rank}(\\mathbf M) = k &\\quad k<r=\\mathrm{rank}(\\mathbf X)\n",
    "\\end{align*}\n",
    "\n",
    "- Optimal solution: $\\hat{\\mathbf X} = \\mathbf U_k \\mathbf S_k \\mathbf V_k^\\top$ (truncated singular value decomposition)\n",
    "- Singular values relate to eigenvalues: $\\displaystyle \\lambda_i = \\frac{s_i^2}{n}$\n",
    "- Right singular vectors $\\mathbf v_i$ are eigenvectors and hence PC directions\n",
    "- PC scores: $\\mathbf z_i = \\mathbf{Xv}_i = \\mathbf{USV}^\\top \\mathbf{Ve}_i = \\mathbf{USe}_i = s_i \\mathbf u_i$"
   ]
  },
  {
   "cell_type": "markdown",
   "metadata": {},
   "source": [
    "#### Approximating the sample covariance matrix\n",
    "\n",
    "\\begin{align*}\n",
    "\\underset{\\mathbf M}{\\text{minimise}} &\\quad \\| \\boldsymbol\\Sigma - \\mathbf M \\|_F \\\\\n",
    "\\text{subject to} &\\quad \\mathrm{rank}(\\mathbf M) = k &\\quad k<r=\\mathrm{rank}(\\mathbf X) \\\\\n",
    "&\\quad \\mathbf M^\\top = \\mathbf M\n",
    "\\end{align*}\n",
    "\n",
    "- Optimal solution: $\\hat{\\boldsymbol\\Sigma} = \\mathbf V_k \\boldsymbol\\Lambda_k \\mathbf V_k^\\top$ (eigendecomposition)"
   ]
  },
  {
   "cell_type": "markdown",
   "metadata": {},
   "source": [
    "#### Approximating the Gram matrix\n",
    "\n",
    "1. Eigendecomposition: $\\displaystyle \\underset{n\\times n}{\\mathbf G} = \\mathbf X \\mathbf X^\\top \\overset{\\text{SVD}}{=} (\\mathbf{USV}^\\top) (\\mathbf{USV}^\\top)^\\top = \\mathbf{USS}^\\top \\mathbf U^\\top = \\mathbf U \\tilde{\\boldsymbol\\Lambda} \\mathbf U^\\top$\n",
    "1. Approximate $\\mathbf G$ like [sample cov](#Approximating-the-sample-covariance-matrix): $\\displaystyle \\hat{\\mathbf G} = \\sum_{i=1}^k s_i^2 \\mathbf u_i \\mathbf u_i^\\top = \\sum_{i=1}^k \\mathbf z_i \\mathbf z_i^\\top$"
   ]
  },
  {
   "cell_type": "markdown",
   "metadata": {},
   "source": [
    "### Probabilistic PCA"
   ]
  },
  {
   "cell_type": "markdown",
   "metadata": {},
   "source": [
    "#### Probabilistic model\n",
    "\n",
    "\\begin{align*}\n",
    "    \\underset{K \\times 1}{\\mathbf z} &\\sim \\mathcal N(\\mathbf 0, \\mathbf I_K) \\\\\n",
    "    \\underset{D \\times 1}{\\boldsymbol\\varepsilon} &\\sim \\mathcal N(\\mathbf 0, \\sigma^2 \\mathbf I_D) \\\\\n",
    "    \\underset{D \\times 1}{\\mathbf x} &= \\underset{D \\times K}{\\mathbf W} \\ \\underset{K \\times 1}{\\mathbf z} + \\underset{D \\times 1}{\\boldsymbol\\mu} + \\underset{D \\times 1}{\\boldsymbol\\varepsilon}\n",
    "\\end{align*}"
   ]
  },
  {
   "cell_type": "markdown",
   "metadata": {},
   "source": [
    "#### Joint, conditional and observation distributions\n",
    "\n",
    "\\begin{align*}\n",
    "p(\\mathbf x | \\mathbf z) &= \\mathcal N(\\mathbf x; \\mathbf{Wz}+\\boldsymbol\\mu, \\sigma^2 \\mathbf I_D) \\\\\n",
    "p(\\mathbf x) &= \\mathcal N(\\mathbf x; \\boldsymbol\\mu, \\mathbf{WW}^\\top+\\sigma^2 \\mathbf I_D)\n",
    "\\end{align*}"
   ]
  },
  {
   "cell_type": "markdown",
   "metadata": {},
   "source": [
    "#### Maximum likelihood"
   ]
  },
  {
   "cell_type": "markdown",
   "metadata": {},
   "source": [
    "## Dimensionality Reduction"
   ]
  },
  {
   "cell_type": "markdown",
   "metadata": {},
   "source": [
    "**Authors:** s1680642\n",
    "\n",
    "**Licensing:** <a rel=\"license\" href=\"http://creativecommons.org/licenses/by-nc-sa/4.0/\"><img alt=\"Creative Commons Licence\" style=\"border-width:0\" src=\"https://i.creativecommons.org/l/by-nc-sa/4.0/88x31.png\" /></a><br />This work is licensed under a <a rel=\"license\" href=\"http://creativecommons.org/licenses/by-nc-sa/4.0/\">Creative Commons Attribution-NonCommercial-ShareAlike 4.0 International License</a>."
   ]
  }
 ],
 "metadata": {
  "kernelspec": {
   "display_name": "Python 3",
   "language": "python",
   "name": "python3"
  },
  "language_info": {
   "codemirror_mode": {
    "name": "ipython",
    "version": 3
   },
   "file_extension": ".py",
   "mimetype": "text/x-python",
   "name": "python",
   "nbconvert_exporter": "python",
   "pygments_lexer": "ipython3",
   "version": "3.7.3"
  },
  "toc": {
   "base_numbering": 1,
   "nav_menu": {},
   "number_sections": true,
   "sideBar": true,
   "skip_h1_title": true,
   "title_cell": "Table of Contents",
   "title_sidebar": "Contents",
   "toc_cell": false,
   "toc_position": {
    "height": "calc(100% - 180px)",
    "left": "10px",
    "top": "150px",
    "width": "233px"
   },
   "toc_section_display": true,
   "toc_window_display": true
  }
 },
 "nbformat": 4,
 "nbformat_minor": 2
}
