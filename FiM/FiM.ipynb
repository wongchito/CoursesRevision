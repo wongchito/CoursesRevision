{
 "cells": [
  {
   "cell_type": "markdown",
   "metadata": {},
   "source": [
    "Author: s1680642"
   ]
  },
  {
   "cell_type": "markdown",
   "metadata": {},
   "source": [
    "# Financial Mathematics\n",
    "\n",
    "1. Replicating portfolio (same payoff)\n",
    "1. Law of one-price (same payoff -> same price at any previous time)\n",
    "1. Brownian Motion\n",
    "    1. $W_0=0$\n",
    "    1. $W_s−W_t\\sim N(0, s−t)$\n",
    "    1. For $r<s\\leq t<u$, $W_u−W_t$ is independent of $W_s−W_r$\n",
    "    1. Fix $\\omega$, $t \\mapsto W_t (\\omega)$ is continuous trajectory(function)\n",
    "    - Additionally, fix $t$, $\\omega \\mapsto W_t (\\omega)$ is a RV\n",
    "1. Ito isometry\n",
    "$$\\mathbb E \\left[ \\left( \\int_0^T g_s \\mathrm d W_s \\right)^2 \\right] = \\mathbb E \\left[ \\int_0^T |g_s|^2 \\mathrm d s \\right]$$\n",
    "1. Stochastic Differential Equation\n",
    "$$\\mathrm d X_t = U_t \\mathrm dt + V_t \\mathrm d W_t \\text{,} \\quad X_0 = x_0$$\n",
    "1. Ito formula\n",
    "$$Y_t := f(t, X_t)$$\n",
    "$$\\mathrm d Y_t = \\left[ \\frac{\\partial f}{\\partial t}(t, X_t) + U_t \\frac{\\partial f}{\\partial x}(t, X_t) + V_t^2 \\frac{1}{2} \\frac{\\partial^2 f}{\\partial x^2}(t, X_t) \\right] \\mathrm d t + \\left[ V_t \\frac{\\partial f}{\\partial x}(t, X_t) \\right] \\mathrm d W_t$$\n",
    "\tThen integrate\n",
    "1. 用Ito formula proof identity: LHS=積分, RHS=多項式, Construct $f(t,x)$ = 多項式有$W_t$嗰項\n",
    "1. Geometric Brownian Motion: \n",
    "    1. $\\mathrm d S_t = \\mu S_t \\mathrm d t + \\sigma S_t \\mathrm d W_t$, $S_0 = S_0$\n",
    "    1. $f(t,x) = \\ln x$⁡, $Y_t \\mapsto \\ln S_t$\n",
    "    1. Using Ito formula, compute $\\displaystyle \\mathrm d Y_t = \\left( r - \\frac{\\sigma^2}{2} \\right) \\mathrm dt + \\sigma \\mathrm dB_t$\n",
    "    1. Integration\n",
    "    1. $S_t = \\exp Y_t = S_0 \\exp \\left\\{ \\left( \\mu - \\frac{\\sigma^2}{2} \\right) t + \\sigma W_t \\right\\}$\n",
    "    1. This is gBM\n",
    "1. $Z \\sim N(0,1)$ then $\\mathbb E[Z^2]=1$\n",
    "1. Indicator function\n",
    "$$\\mathbb 1_{S_t > K} = \\begin{cases}\n",
    "    1 & S_t > K \\\\\n",
    "    0 & \\text{otherwise}\n",
    "\\end{cases}$$\n",
    "$$W_T \\sim N(0, T)$$\n",
    "$$\\mathbb E \\left[ \\mathbb 1_{S_T>K} \\right] = \\mathbb E \\left[ \\mathbb 1_{W_t > \\frac{\\ln \\frac{K}{S_0} - \\left( r - \\frac{\\sigma^2}{2} \\right) T}{\\sigma}} \\right] = N \\left(\\frac{\\ln \\frac{K}{S_0} - \\left( r - \\frac{\\sigma^2}{2} \\right) T}{\\sigma \\sqrt{T}} \\right) = N(d_-)$$\n",
    "1. 計exponential嘅expectation要用completing the square\n",
    "1. Pricing an option\n",
    "$$\\Pi(0; \\text{option})=e^{−rT} \\mathbb E[\\Phi(S_T )]$$\n",
    "\tEg: $\\displaystyle \\Pi(0;\\text{Call})=e^{−rT} \\mathbb E[\\Phi(S_T )]=e^{−rT} \\mathbb E \\left[(S_T−K) \\cdot \\mathbb 1_{S_T>K} \\right]=S_0 N(d_+ )−Ke^{−rT} N(d_− )$\n",
    "1. $\\mathbb E[XY]= \\mathbb E[X] \\mathbb E[Y]+ \\mathrm{cov}(X, Y)$\n",
    "1. Put-call parity\n",
    "$$c_0+K \\exp(−rt)=p_0+S_0$$"
   ]
  }
 ],
 "metadata": {
  "kernelspec": {
   "display_name": "Python 3",
   "language": "python",
   "name": "python3"
  },
  "language_info": {
   "codemirror_mode": {
    "name": "ipython",
    "version": 3
   },
   "file_extension": ".py",
   "mimetype": "text/x-python",
   "name": "python",
   "nbconvert_exporter": "python",
   "pygments_lexer": "ipython3",
   "version": "3.7.1"
  },
  "toc": {
   "base_numbering": 1,
   "nav_menu": {},
   "number_sections": false,
   "sideBar": true,
   "skip_h1_title": false,
   "title_cell": "Table of Contents",
   "title_sidebar": "Contents",
   "toc_cell": false,
   "toc_position": {},
   "toc_section_display": true,
   "toc_window_display": false
  }
 },
 "nbformat": 4,
 "nbformat_minor": 2
}
