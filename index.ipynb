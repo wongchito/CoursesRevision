{
 "cells": [
  {
   "cell_type": "markdown",
   "metadata": {},
   "source": [
    "# Courses Revision and Cheat Sheets"
   ]
  },
  {
   "cell_type": "markdown",
   "metadata": {},
   "source": [
    "## School of Mathematics\n",
    "\n",
    "### SCQF Level 10\n",
    "\n",
    "- MATH10096 &emsp; Applied Statistics &emsp; [2019](AStat/AppStats.html)\n",
    "- MATH10003 &emsp; Financial Mathematics &emsp; [2016](FiM/FiM.html)\n",
    "- MATH10067 &emsp; Honours Complex Variables &emsp; [2017](HCoV/HCoV.pdf)\n",
    "- MATH10066 &emsp; Honours Differential Equations &emsp; [2016](HDEq/2016.html) &emsp; [2018(&dagger;)](HDEq/2018.html)\n",
    "- MATH10004 &emsp; Likelihood &emsp; [2017](Lik/Lik.pdf)\n",
    "- MATH10005 &emsp; Linear Statistical Modelling &emsp; [2016](LSM/LSM.pdf)\n",
    "- MATH10098 &emsp; Numerical Linear Algebra &emsp; [2018(&dagger;)](NLAA/2018.html)\n",
    "- MATH10059 &emsp; Numerical Linear Algebra and Applications &emsp; [2016](NLAA/2016.html)\n",
    "- MATH10007 &emsp; Stochastic Modelling &emsp; [2017](SMo/SMo.pdf)\n",
    "- MATH10028 &emsp; Theory of Statistical Inference &emsp; [2018](TSI/TSI.html)\n",
    "\n",
    "### SCQF Level 11\n",
    "\n",
    "- MATH11177 &emsp; Bayesian Theory &emsp; [2017](BTh/BTh.pdf)\n",
    "- MATH11186 &emsp; Nonparametric Regression Models &emsp; [2018](NPR/NPR.html)\n",
    "- MATH11024 &emsp; The Analysis of Survival Data &emsp; [2017](ASD/ASD.pdf)"
   ]
  },
  {
   "cell_type": "markdown",
   "metadata": {},
   "source": [
    "## School of Informatics\n",
    "\n",
    "### SCQF Level 11\n",
    "\n",
    "- INFR11007 &emsp; Data Mining and Exploration &emsp; [2019](DME/DME.html)\n",
    "- INFR11130 &emsp; Machine Learning and Pattern Recognition &emsp; [2018](MLPR/index.html)\n",
    "- INFR11134 &emsp; Probabilistic Modelling and Reasoning &emsp; [2019](PMR/PMR.html)\n",
    "- INFR11145 &emsp; Text Technologies for Data Science &emsp; [2019](TTDS/TTDS.html)"
   ]
  },
  {
   "cell_type": "markdown",
   "metadata": {},
   "source": [
    "**Authors:** s1680642, s1889985(&dagger;)\n",
    "\n",
    "**Licensing:** <a rel=\"license\" href=\"http://creativecommons.org/licenses/by-nc-sa/4.0/\"><img alt=\"Creative Commons Licence\" style=\"border-width:0\" src=\"https://i.creativecommons.org/l/by-nc-sa/4.0/88x31.png\" /></a><br />This work is licensed under a <a rel=\"license\" href=\"http://creativecommons.org/licenses/by-nc-sa/4.0/\">Creative Commons Attribution-NonCommercial-ShareAlike 4.0 International License</a>."
   ]
  }
 ],
 "metadata": {
  "kernelspec": {
   "display_name": "Python 3",
   "language": "python",
   "name": "python3"
  },
  "language_info": {
   "codemirror_mode": {
    "name": "ipython",
    "version": 3
   },
   "file_extension": ".py",
   "mimetype": "text/x-python",
   "name": "python",
   "nbconvert_exporter": "python",
   "pygments_lexer": "ipython3",
   "version": "3.7.3"
  },
  "toc": {
   "base_numbering": 1,
   "nav_menu": {},
   "number_sections": false,
   "sideBar": true,
   "skip_h1_title": false,
   "title_cell": "Table of Contents",
   "title_sidebar": "Contents",
   "toc_cell": false,
   "toc_position": {},
   "toc_section_display": true,
   "toc_window_display": false
  }
 },
 "nbformat": 4,
 "nbformat_minor": 2
}
