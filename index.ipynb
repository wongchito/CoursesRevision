{
 "cells": [
  {
   "cell_type": "markdown",
   "metadata": {},
   "source": [
    "# Courses Revision and Cheat Sheets"
   ]
  },
  {
   "cell_type": "markdown",
   "metadata": {},
   "source": [
    "## School of Mathematics\n",
    "\n",
    "### SCQF Level 10\n",
    "\n",
    "- [MATH10003 Financial Mathematics (2016)](FiM/FiM.pdf)\n",
    "- [MATH10067 Honours Complex Variables (2017)](HCoV/HCoV.pdf)\n",
    "- [MATH10004 Likelihood (2017)](Lik/Lik.pdf)\n",
    "- MATH10005 Linear Statistical Modelling (2016) Part 1 [2](LSM/Part2.pdf)\n",
    "- [MATH10007 Stochastic Modelling (2017)](SMo/SMo.pdf)\n",
    "- [MATH10028 Theory of Statistical Inference (2018)](TSI/TSI.html)\n",
    "\n",
    "### SCQF Level 11\n",
    "\n",
    "- [MATH11186 Nonparametric Regression Models (2018)](NPR/NPR.html)\n",
    "- [MATH11024 The Analysis of Survival Data (2017)](ASD/ASD.pdf)"
   ]
  },
  {
   "cell_type": "markdown",
   "metadata": {},
   "source": [
    "## School of Informatics\n",
    "- [INFR11130 Machine Learning and Pattern Recognition (2018)](MLPR/index.html)"
   ]
  }
 ],
 "metadata": {
  "kernelspec": {
   "display_name": "Python 3",
   "language": "python",
   "name": "python3"
  },
  "language_info": {
   "codemirror_mode": {
    "name": "ipython",
    "version": 3
   },
   "file_extension": ".py",
   "mimetype": "text/x-python",
   "name": "python",
   "nbconvert_exporter": "python",
   "pygments_lexer": "ipython3",
   "version": "3.7.1"
  },
  "toc": {
   "base_numbering": 1,
   "nav_menu": {},
   "number_sections": false,
   "sideBar": true,
   "skip_h1_title": false,
   "title_cell": "Table of Contents",
   "title_sidebar": "Contents",
   "toc_cell": false,
   "toc_position": {},
   "toc_section_display": true,
   "toc_window_display": false
  }
 },
 "nbformat": 4,
 "nbformat_minor": 2
}
